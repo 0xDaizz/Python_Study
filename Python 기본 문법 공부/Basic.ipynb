{
 "cells": [
  {
   "cell_type": "code",
   "execution_count": null,
   "metadata": {},
   "outputs": [
    {
     "ename": "",
     "evalue": "",
     "output_type": "error",
     "traceback": [
      "\u001b[1;31mFailed to start the Kernel. \n",
      "c:\\Users\\형우\\AppData\\Local\\Programs\\Python\\Python310\\lib\\site-packages\\traitlets\\traitlets.py:2202: FutureWarning: Supporting extra quotes around strings is deprecated in traitlets 5.0. You can use 'hmac-sha256' instead of '\"hmac-sha256\"' if you require traitlets >=5.\r\n",
      "  warn(\r\n",
      "c:\\Users\\형우\\AppData\\Local\\Programs\\Python\\Python310\\lib\\site-packages\\traitlets\\traitlets.py:2157: FutureWarning: Supporting extra quotes around Bytes is deprecated in traitlets 5.0. Use 'f1eb4273-5705-4796-99c3-f27064c24f17' instead of 'b\"f1eb4273-5705-4796-99c3-f27064c24f17\"'.\r\n",
      "  warn(\r\n",
      "Bad file descriptor (C:\\projects\\libzmq\\src\\epoll.cpp:100). \n",
      "View Jupyter <a href='command:jupyter.viewOutput'>log</a> for further details."
     ]
    }
   ],
   "source": [
    "# 파이썬은 주석이 샵.\n",
    "# 2.4 소스코드 이해하기\n",
    "\n",
    "company = '삼전'\n",
    "print(company)\n"
   ]
  }
 ],
 "metadata": {
  "interpreter": {
   "hash": "9b066853cdaeb43b559984fffd7983b468f724071901c8abd6ef5cc3b93b76e9"
  },
  "kernelspec": {
   "display_name": "Python 3.10.4 64-bit (system)",
   "language": "python",
   "name": "python3"
  },
  "language_info": {
   "name": "python",
   "version": "3.10.4"
  },
  "orig_nbformat": 4
 },
 "nbformat": 4,
 "nbformat_minor": 2
}
