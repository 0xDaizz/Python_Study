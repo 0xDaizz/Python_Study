{
 "cells": [
  {
   "cell_type": "code",
   "execution_count": 2,
   "metadata": {},
   "outputs": [
    {
     "name": "stdout",
     "output_type": "stream",
     "text": [
      "삼전\n"
     ]
    }
   ],
   "source": [
    "# 파이썬은 주석이 샵.\n",
    "# 2.4 소스코드 이해하기\n",
    "\n",
    "company = '삼전'\n",
    "print(company)"
   ]
  },
  {
   "cell_type": "code",
   "execution_count": 1,
   "metadata": {},
   "outputs": [
    {
     "name": "stdout",
     "output_type": "stream",
     "text": [
      "section url : https://news.naver.com/main/list.nhn?mode=LSD&amp;mid=sec&amp;sid1=100\n"
     ]
    }
   ],
   "source": [
    "sid = '100'\n",
    "sec_url = \"https://news.naver.com/main/list.nhn?mode=LSD&amp;mid=sec\"+\"&amp;sid1=\"+sid\n",
    "print (\"section url :\", sec_url)\n"
   ]
  },
  {
   "cell_type": "code",
   "execution_count": 2,
   "metadata": {},
   "outputs": [
    {
     "name": "stdout",
     "output_type": "stream",
     "text": [
      "Luna Short\n"
     ]
    }
   ],
   "source": [
    "print (\"Luna Short\")"
   ]
  },
  {
   "cell_type": "code",
   "execution_count": null,
   "metadata": {},
   "outputs": [],
   "source": []
  }
 ],
 "metadata": {
  "kernelspec": {
   "display_name": "Python 3.9.12 64-bit",
   "language": "python",
   "name": "python3"
  },
  "language_info": {
   "codemirror_mode": {
    "name": "ipython",
    "version": 3
   },
   "file_extension": ".py",
   "mimetype": "text/x-python",
   "name": "python",
   "nbconvert_exporter": "python",
   "pygments_lexer": "ipython3",
   "version": "3.9.12"
  },
  "orig_nbformat": 4,
  "vscode": {
   "interpreter": {
    "hash": "b0fa6594d8f4cbf19f97940f81e996739fb7646882a419484c72d19e05852a7e"
   }
  }
 },
 "nbformat": 4,
 "nbformat_minor": 2
}
