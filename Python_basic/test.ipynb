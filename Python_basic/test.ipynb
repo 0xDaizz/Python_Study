{
 "cells": [
  {
   "cell_type": "code",
   "execution_count": 1,
   "metadata": {},
   "outputs": [
    {
     "name": "stdout",
     "output_type": "stream",
     "text": [
      "hello\n"
     ]
    }
   ],
   "source": [
    "print('hello')"
   ]
  },
  {
   "cell_type": "code",
   "execution_count": 1,
   "metadata": {},
   "outputs": [
    {
     "name": "stdout",
     "output_type": "stream",
     "text": [
      "삼성전자\n",
      "section url :  https://news.naver.com/main/list.nhn?mode=LSD&amp;mid=sec&amp;sid1=100\n"
     ]
    }
   ],
   "source": [
    "company = '삼성전자'\n",
    "\n",
    "print (company)\n",
    "\n",
    "sid = '100'\n",
    "sec_url = \"https://news.naver.com/main/list.nhn?mode=LSD&amp;mid=sec\"+\"&amp;sid1=\" + sid\n",
    "print (\"section url : \", sec_url)"
   ]
  },
  {
   "cell_type": "code",
   "execution_count": 6,
   "metadata": {},
   "outputs": [
    {
     "name": "stdout",
     "output_type": "stream",
     "text": [
      "foods :  ['콩나물국밥', '고등어', '굴', '쌀국수', '마라탕']\n",
      "type of foods :  <class 'list'>\n",
      "sid_list :  ['100', '101', '102']\n",
      "type of sid_list <class 'list'>\n",
      "sid_list[0] :  100\n",
      "type of sid_list[0] :  <class 'str'>\n",
      "sid_list[1] :  101\n"
     ]
    }
   ],
   "source": [
    "foods = \"콩나물국밥, 고등어, 굴, 쌀국수, 마라탕\"\n",
    "\n",
    "foods = foods.split(', ')\n",
    "\n",
    "print (\"foods : \", foods)\n",
    "\n",
    "print (\"type of foods : \", type(foods))\n",
    "\n",
    "\n",
    "\n",
    "sid_list = ['100', '101', '102']\n",
    "\n",
    "print (\"sid_list : \", sid_list)\n",
    "\n",
    "print (\"type of sid_list\", type(sid_list))\n",
    "\n",
    "print (\"sid_list[0] : \", sid_list[0])\n",
    "\n",
    "print (\"type of sid_list[0] : \", type(sid_list[0]))\n",
    "\n",
    "print (\"sid_list[1] : \", sid_list[1])\n",
    "\n"
   ]
  },
  {
   "cell_type": "code",
   "execution_count": 19,
   "metadata": {},
   "outputs": [
    {
     "name": "stdout",
     "output_type": "stream",
     "text": [
      "True\n",
      "False\n",
      "True\n",
      "False\n"
     ]
    }
   ],
   "source": [
    "#연산자\n",
    "\n",
    "# = : 대입\n",
    "\n",
    "num = 3 #num에 3을 대입\n",
    "\n",
    "#비교연산자\n",
    "\n",
    "print(num == 3)\n",
    "\n",
    "print(num != 3)\n",
    "\n",
    "print(num >= 3)\n",
    "\n",
    "print(num < 3)"
   ]
  },
  {
   "cell_type": "code",
   "execution_count": 10,
   "metadata": {},
   "outputs": [
    {
     "name": "stdout",
     "output_type": "stream",
     "text": [
      "10\n",
      "1.75\n",
      "16\n",
      "1\n"
     ]
    }
   ],
   "source": [
    "#산술연산자\n",
    "\n",
    "print(5*2)\n",
    "\n",
    "print(7/4)\n",
    "\n",
    "print(82//5)    # //는 몫을 구하는 연산자\n",
    "\n",
    "print(99%7)     # %는 나머지를 구하는 연산자\n"
   ]
  },
  {
   "cell_type": "code",
   "execution_count": 20,
   "metadata": {},
   "outputs": [
    {
     "name": "stdout",
     "output_type": "stream",
     "text": [
      "30초 지남!\n"
     ]
    }
   ],
   "source": [
    "sleep_cnt = 30\n",
    "\n",
    "if sleep_cnt % 30 == 0:\n",
    "    sleep_cnt = 1\n",
    "    print(\"30초 지남!\")"
   ]
  },
  {
   "cell_type": "code",
   "execution_count": 22,
   "metadata": {},
   "outputs": [
    {
     "name": "stdout",
     "output_type": "stream",
     "text": [
      "20\n"
     ]
    }
   ],
   "source": [
    "mytext = \"asdfasdfasdfasdfasdf\"\n",
    "\n",
    "print(len(mytext))  #len()은 문자열 길이를 말함 (length)"
   ]
  },
  {
   "cell_type": "code",
   "execution_count": 3,
   "metadata": {},
   "outputs": [
    {
     "name": "stdout",
     "output_type": "stream",
     "text": [
      "1\n",
      "2\n",
      "3\n",
      "4\n"
     ]
    }
   ],
   "source": [
    "a = {1, 2, 3, 4}\n",
    "while a:\n",
    "    print(a.pop())"
   ]
  },
  {
   "cell_type": "code",
   "execution_count": null,
   "metadata": {},
   "outputs": [],
   "source": []
  }
 ],
 "metadata": {
  "interpreter": {
   "hash": "b0fa6594d8f4cbf19f97940f81e996739fb7646882a419484c72d19e05852a7e"
  },
  "kernelspec": {
   "display_name": "Python 3.9.12 64-bit",
   "language": "python",
   "name": "python3"
  },
  "language_info": {
   "codemirror_mode": {
    "name": "ipython",
    "version": 3
   },
   "file_extension": ".py",
   "mimetype": "text/x-python",
   "name": "python",
   "nbconvert_exporter": "python",
   "pygments_lexer": "ipython3",
   "version": "3.9.12"
  },
  "orig_nbformat": 4,
  "vscode": {
   "interpreter": {
    "hash": "b0fa6594d8f4cbf19f97940f81e996739fb7646882a419484c72d19e05852a7e"
   }
  }
 },
 "nbformat": 4,
 "nbformat_minor": 2
}
