{
 "cells": [
  {
   "cell_type": "code",
   "execution_count": 2,
   "metadata": {},
   "outputs": [
    {
     "name": "stdout",
     "output_type": "stream",
     "text": [
      "아파트를 살 수 있다\n"
     ]
    }
   ],
   "source": [
    "#기본형식\n",
    "\n",
    "i = 'rich'\n",
    "\n",
    "if i == 'rich' :\n",
    "\n",
    "    print (\"아파트를 살 수 있다\")\n",
    "\n",
    "else :\n",
    "\n",
    "    print (\"아파트를 못 산다\")"
   ]
  },
  {
   "cell_type": "code",
   "execution_count": 4,
   "metadata": {},
   "outputs": [
    {
     "name": "stdout",
     "output_type": "stream",
     "text": [
      "100000\n"
     ]
    }
   ],
   "source": [
    "#조건이 여러 개인 경우 \n",
    "\n",
    "# else if 를 줄여서 elif으로 쓴다.\n",
    "\n",
    "k = 125\n",
    "\n",
    "if k < 1 :\n",
    "\n",
    "    x = 100\n",
    "\n",
    "elif k < 10 :\n",
    "\n",
    "    x = 1000\n",
    "\n",
    "elif k < 100 :\n",
    "\n",
    "    x = 10000\n",
    "\n",
    "else :\n",
    "    \n",
    "    x = 100000\n",
    "\n",
    "print (x)"
   ]
  },
  {
   "cell_type": "code",
   "execution_count": 5,
   "metadata": {},
   "outputs": [
    {
     "name": "stdout",
     "output_type": "stream",
     "text": [
      "Y\n"
     ]
    }
   ],
   "source": [
    "# in 연산자 : 찾고자 하는 값이 있는지 알려줌!\n",
    "\n",
    "keyword = '코인'\n",
    "\n",
    "text = '코인으로 부자되자'\n",
    "\n",
    "if keyword in text :\n",
    "    print ('Y')"
   ]
  },
  {
   "cell_type": "code",
   "execution_count": null,
   "metadata": {},
   "outputs": [],
   "source": []
  }
 ],
 "metadata": {
  "interpreter": {
   "hash": "b0fa6594d8f4cbf19f97940f81e996739fb7646882a419484c72d19e05852a7e"
  },
  "kernelspec": {
   "display_name": "Python 3.9.12 64-bit",
   "language": "python",
   "name": "python3"
  },
  "language_info": {
   "codemirror_mode": {
    "name": "ipython",
    "version": 3
   },
   "file_extension": ".py",
   "mimetype": "text/x-python",
   "name": "python",
   "nbconvert_exporter": "python",
   "pygments_lexer": "ipython3",
   "version": "3.9.12"
  },
  "orig_nbformat": 4
 },
 "nbformat": 4,
 "nbformat_minor": 2
}
