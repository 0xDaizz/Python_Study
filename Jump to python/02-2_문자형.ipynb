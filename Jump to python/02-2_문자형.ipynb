{
 "cells": [
  {
   "cell_type": "code",
   "execution_count": 5,
   "metadata": {},
   "outputs": [
    {
     "name": "stdout",
     "output_type": "stream",
     "text": [
      "불편하긴 하지만\n",
      "이렇게 줄바꿈을 할 수도 있음\n",
      "여러 줄을 바꿔쓰는 경우 이거보다는 따옴표 세 개가 더 나음!\n"
     ]
    }
   ],
   "source": [
    "# 문자열을 만드는 방법은 4가지.\n",
    "\n",
    "'작은 따옴표 안에'\n",
    "\n",
    "\"큰 따옴표 안에\"\n",
    "\n",
    "'''\n",
    "여러 줄인 경우 세 개를 연달아서!!\n",
    "이렇게\n",
    "'''\n",
    "\n",
    "\"\"\" \n",
    "큰따옴표도 \n",
    "세 개 \n",
    "연달아 \n",
    "가능\"\"\"\n",
    "\n",
    "\"문장에 쓰이는 따옴표는 \\' 이렇게 백슬래시를 앞에 붙여주면 오케이\"\n",
    "\n",
    "nWrite = \"불편하긴 하지만\\n이렇게 줄바꿈을 할 수도 있음\\n여러 줄을 바꿔쓰는 경우 이거보다는 따옴표 세 개가 더 나음!\"\n",
    "print (nWrite)"
   ]
  },
  {
   "cell_type": "code",
   "execution_count": 9,
   "metadata": {},
   "outputs": [
    {
     "name": "stdout",
     "output_type": "stream",
     "text": [
      "\n",
      "방금 본 것 처럼\n",
      "이렇게 줄바꿈을 할 수도 있고\n",
      "\n",
      "문자열 사이에\t탭 간격을 줄 수도 있고 \n",
      "\n",
      "백슬래시 기호를 그대로 쓰고 싶다면 \\ 이렇게 해주면 되고\n",
      "\n",
      "아까처럼 따옴표를 그대로 쓰고 싶다면 ' \" 이렇게 해주면 되고 \n",
      "\n",
      "줄 바꾸고 커서를 가장 앞으로 옮기고 싶으면 \\ r 캐리지 리턴\n",
      "\n",
      "줄 바꾸고 커서를 다음 줄로 이동하고 싶으면 \\ f 폼 피드\n",
      "\n",
      "컴퓨터에서 삑 소리를 내고 싶다면 \\ a \n",
      "\n",
      "백스페이스는 \n",
      "\n",
      "null 문자는 \u0000\n",
      "\n",
      "근데 n t \\ ' \" 이거 말고 나머지는 잘 안 씀!\n",
      "\n",
      "\n"
     ]
    }
   ],
   "source": [
    "# 이스케이프 코드\n",
    "\n",
    "memo = \"\"\"\n",
    "방금 본 것 처럼\\n이렇게 줄바꿈을 할 수도 있고\n",
    "\n",
    "문자열 사이에\\t탭 간격을 줄 수도 있고 \n",
    "\n",
    "백슬래시 기호를 그대로 쓰고 싶다면 \\\\ 이렇게 해주면 되고\n",
    "\n",
    "아까처럼 따옴표를 그대로 쓰고 싶다면 \\' \\\" 이렇게 해주면 되고 \n",
    "\n",
    "줄 바꾸고 커서를 가장 앞으로 옮기고 싶으면 \\ r 캐리지 리턴\n",
    "\n",
    "줄 바꾸고 커서를 다음 줄로 이동하고 싶으면 \\ f 폼 피드\n",
    "\n",
    "컴퓨터에서 삑 소리를 내고 싶다면 \\ a \n",
    "\n",
    "백스페이스는 !\\b\n",
    "\n",
    "null 문자는 \\000\n",
    "\n",
    "근데 n t \\\\ \\' \\\" 이거 말고 나머지는 잘 안 씀!\n",
    "\n",
    "\"\"\"\n",
    "\n",
    "print(memo)\n"
   ]
  },
  {
   "cell_type": "code",
   "execution_count": 11,
   "metadata": {},
   "outputs": [
    {
     "name": "stdout",
     "output_type": "stream",
     "text": [
      "가나다라마바사 가나다라가나다라\n"
     ]
    }
   ],
   "source": [
    "# 문자열 연산하기 \n",
    "\n",
    "# 문자열을 더하거나 곱할 수 있음!\n",
    "\n",
    "a = \"가나다라\"\n",
    "b = \"마바사\"\n",
    "\n",
    "sum = a + b\n",
    "\n",
    "multiple = a * 2\n",
    "\n",
    "print (sum, multiple)"
   ]
  },
  {
   "cell_type": "code",
   "execution_count": 13,
   "metadata": {},
   "outputs": [
    {
     "name": "stdout",
     "output_type": "stream",
     "text": [
      "==========\n",
      "테스트\n",
      "==========\n"
     ]
    }
   ],
   "source": [
    "print('=' * 10)\n",
    "print('테스트')\n",
    "print('=' * 10)\n",
    "\n",
    "# 이런 식으로 만들 수도 있음!!"
   ]
  },
  {
   "cell_type": "code",
   "execution_count": 14,
   "metadata": {},
   "outputs": [
    {
     "data": {
      "text/plain": [
       "7"
      ]
     },
     "execution_count": 14,
     "metadata": {},
     "output_type": "execute_result"
    }
   ],
   "source": [
    "# 문자열의 길이 구하는 방법 \n",
    "\n",
    "# len 함수를 사용하면 됨\n",
    "\n",
    "text = '가나다라마바사'\n",
    "\n",
    "len(text)\n",
    "\n",
    "# Print 함수를 굳이 사용하지 않아도 됨."
   ]
  },
  {
   "cell_type": "code",
   "execution_count": 19,
   "metadata": {},
   "outputs": [
    {
     "name": "stdout",
     "output_type": "stream",
     "text": [
      "바\n",
      "하\n"
     ]
    }
   ],
   "source": [
    "# 문자열의 인덱싱\n",
    "\n",
    "text1 = '가나다라마바사아자차카타파하'\n",
    "\n",
    "print(text1[5])\n",
    "\n",
    "# 0부터 시작해 왼쪽에서 n번째 숫자를 찾는 [n] 이게 바로 인덱싱 \n",
    "\n",
    "#맨 마지막을 세고 싶다면 -1을 쓰면 됨!!\n",
    "\n",
    "print(text1[-1])"
   ]
  },
  {
   "cell_type": "code",
   "execution_count": 23,
   "metadata": {},
   "outputs": [
    {
     "name": "stdout",
     "output_type": "stream",
     "text": [
      "like\n"
     ]
    }
   ],
   "source": [
    "# 문자열의 슬라이싱 \n",
    "\n",
    "# 단어를 뽑아낼 때 사용.\n",
    "\n",
    "# 단순히 a[0] + a[5] + ... 이런 방식으로 할 수야 있지만, 더 세련된 방법이 있음\n",
    "\n",
    "text2 = 'I like icecream'\n",
    "\n",
    "print(text2[2:6])\n",
    "\n",
    "# 이렇게 : 를 사용해 엑셀마냥 xx부터 oo까지~! 라고 세팅하면 된다는 소리.\n",
    "\n",
    "Caution = \"\"\"\n",
    "\n",
    "근데, [2:6] 이라는 것은 \n",
    "수학에서 수직선 나타낼 때의 [2, 6) 과도 같은 말이다. \n",
    "즉, 2 =< x < 6 이라는 소리!\n",
    "\n",
    "그러니깐 위에서 like에 대응하는 것이 [2:5] 가 아니라 [2:6] 인거임.\n",
    "\n",
    "추가로, 공백도 하나의 문자로 취급함!! 조심.\n",
    "\"\"\""
   ]
  },
  {
   "cell_type": "code",
   "execution_count": 25,
   "metadata": {},
   "outputs": [
    {
     "name": "stdout",
     "output_type": "stream",
     "text": [
      "2022 05 27 Ipsilenti\n"
     ]
    }
   ],
   "source": [
    "# 슬라이싱으로 문자열 나누기\n",
    "\n",
    "# 흔하게 쓰는 방법 중 하나!\n",
    "\n",
    "a = \"20220527Ipsilenti\"\n",
    "\n",
    "Year = a[0:4]\n",
    "Month = a[4:6]\n",
    "Date = a[6:8]\n",
    "Event = a[8:]\n",
    "\n",
    "print (Year, Month, Date, Event)"
   ]
  },
  {
   "cell_type": "code",
   "execution_count": 28,
   "metadata": {},
   "outputs": [
    {
     "data": {
      "text/plain": [
       "'abcdefg'"
      ]
     },
     "execution_count": 28,
     "metadata": {},
     "output_type": "execute_result"
    }
   ],
   "source": [
    "#문자열 바꿔치기 \n",
    "\n",
    "a = 'abcdefu'\n",
    "\n",
    "# u 를 g 로 바꾸고 싶다.\n",
    "\n",
    "# 그런데 문자열의 요소 (a[x])는 바꿀 수 있는 값이 아님(immutable하다라고 함)\n",
    "\n",
    "#따라서 이렇게 바꿈 \n",
    "\n",
    "a[:-1] + 'g'"
   ]
  },
  {
   "cell_type": "code",
   "execution_count": 30,
   "metadata": {},
   "outputs": [
    {
     "data": {
      "text/plain": [
       "'I have 4 apples.'"
      ]
     },
     "execution_count": 30,
     "metadata": {},
     "output_type": "execute_result"
    }
   ],
   "source": [
    "# 문자열 포매팅 ! 문자열의 특정한 부분에 원하는 것을 끼워넣을 수 있는 방법\n",
    "\n",
    "\"I have %d apples.\" % 4\n",
    "\n",
    "# %d => 문자열 포맷 코드"
   ]
  },
  {
   "cell_type": "code",
   "execution_count": 32,
   "metadata": {},
   "outputs": [
    {
     "data": {
      "text/plain": [
       "'I like rainy weather.'"
      ]
     },
     "execution_count": 32,
     "metadata": {},
     "output_type": "execute_result"
    }
   ],
   "source": [
    "# %d 는 문자열에 숫자를 넣을 때 방법이고, \n",
    "\n",
    "# 문자열을 넣으려면 %s 를 사용하면 된다.\n",
    "\n",
    "\"I like %s weather.\" % \"rainy\""
   ]
  },
  {
   "cell_type": "code",
   "execution_count": 33,
   "metadata": {},
   "outputs": [
    {
     "data": {
      "text/plain": [
       "'I like 7'"
      ]
     },
     "execution_count": 33,
     "metadata": {},
     "output_type": "execute_result"
    }
   ],
   "source": [
    "# 숫자를 대입할 때, 숫자를 나타내는 변수를 넣어도 상관 없음!\n",
    "\n",
    "number = 7\n",
    "\n",
    "\"I like %d\" % number"
   ]
  },
  {
   "cell_type": "code",
   "execution_count": 36,
   "metadata": {},
   "outputs": [
    {
     "data": {
      "text/plain": [
       "\"Today is Wednesday. It's 7 o'clock.\""
      ]
     },
     "execution_count": 36,
     "metadata": {},
     "output_type": "execute_result"
    }
   ],
   "source": [
    "# 여러 개의 값 대입도 가능!\n",
    "\n",
    "\"Today is %s. It\\'s %d o\\'clock.\" %(\"Wednesday\", 7)\n",
    "\n",
    "# 문자열을 대입할 때에는 반 드 시 \"\" 따옴표 해줘!!"
   ]
  },
  {
   "cell_type": "code",
   "execution_count": 50,
   "metadata": {},
   "outputs": [
    {
     "data": {
      "text/plain": [
       "'\\n%s 는 String (문자열)\\n\\n%c 는 문자 1개 (캐릭터)\\n\\n%d 는 정수\\n\\n%f 는 부동소수(실수)\\n\\n%o 는 8진수\\n\\n%x 는 16진수\\n\\n%% 는 퍼센트 기호 그 자체!!\\n'"
      ]
     },
     "execution_count": 50,
     "metadata": {},
     "output_type": "execute_result"
    }
   ],
   "source": [
    "# 문자열 포맷 코드의 종류\n",
    "\n",
    "\"\"\"\n",
    "%s 는 String (문자열)\n",
    "\n",
    "%c 는 문자 1개 (캐릭터)\n",
    "\n",
    "%d 는 정수\n",
    "\n",
    "%f 는 부동소수(실수)\n",
    "\n",
    "%o 는 8진수\n",
    "\n",
    "%x 는 16진수\n",
    "\n",
    "%% 는 퍼센트 기호 그 자체!!\n",
    "\"\"\"\n",
    "\n",
    "# 근데 자료형을 유지할 필요 없고 문자열 string으로 바꿔도 된다 싶으면 %s 만 써도 좋음"
   ]
  },
  {
   "cell_type": "code",
   "execution_count": 53,
   "metadata": {},
   "outputs": [
    {
     "name": "stdout",
     "output_type": "stream",
     "text": [
      "        hi\n"
     ]
    },
    {
     "data": {
      "text/plain": [
       "'그러니까 00000000hi 이렇게 정렬된 거지.'"
      ]
     },
     "execution_count": 53,
     "metadata": {},
     "output_type": "execute_result"
    }
   ],
   "source": [
    "# 포맷 코드 + 숫자 같이 사용하기\n",
    "\n",
    "print(\"%10s\" % \"hi\")\n",
    "\n",
    "# %10s 는, 대입할 때 전체 문자열의 길이를 10으로 하고, 오른쪽 정렬을 해 대입한 것.\n",
    "\n",
    "\"그러니까 00000000hi 이렇게 정렬된 거지.\""
   ]
  },
  {
   "cell_type": "code",
   "execution_count": 54,
   "metadata": {},
   "outputs": [
    {
     "data": {
      "text/plain": [
       "'Mu         Yaho'"
      ]
     },
     "execution_count": 54,
     "metadata": {},
     "output_type": "execute_result"
    }
   ],
   "source": [
    "# 반대로 왼쪽 정렬은 %-10s 로 하면 됨.\n",
    "\n",
    "\"%-10s Yaho\" % \"Mu\""
   ]
  },
  {
   "cell_type": "code",
   "execution_count": 55,
   "metadata": {},
   "outputs": [
    {
     "data": {
      "text/plain": [
       "'3.14160'"
      ]
     },
     "execution_count": 55,
     "metadata": {},
     "output_type": "execute_result"
    }
   ],
   "source": [
    "# 소수점 이하 자릿수 개수를 제한하고 싶을 때!\n",
    "\n",
    "\"%0.5f\" % 3.1415965358979   # 0.5니까 소수점 이하 5자리, 그 이하는 반올림"
   ]
  },
  {
   "cell_type": "code",
   "execution_count": 57,
   "metadata": {},
   "outputs": [
    {
     "data": {
      "text/plain": [
       "' 2.7182818'"
      ]
     },
     "execution_count": 57,
     "metadata": {},
     "output_type": "execute_result"
    }
   ],
   "source": [
    "# 두 개를 합칠 수도 있음 ㅋㅋ\n",
    "\n",
    "\"%10.7f\" % 2.718281828"
   ]
  },
  {
   "cell_type": "code",
   "execution_count": 62,
   "metadata": {},
   "outputs": [
    {
     "data": {
      "text/plain": [
       "'I have 10000 won in my pocket.'"
      ]
     },
     "execution_count": 62,
     "metadata": {},
     "output_type": "execute_result"
    }
   ],
   "source": [
    "# Format 함수를 사용한 문자열 포맷.\n",
    "\n",
    "# 좀 더 세련된 방법이다.\n",
    "\n",
    "\"I have {0} won in my pocket.\".format(10000)"
   ]
  },
  {
   "cell_type": "code",
   "execution_count": 64,
   "metadata": {},
   "outputs": [
    {
     "data": {
      "text/plain": [
       "'My name is Jaeyong Lee, and your name is Youngjin Jeong.'"
      ]
     },
     "execution_count": 64,
     "metadata": {},
     "output_type": "execute_result"
    }
   ],
   "source": [
    "# 이것도 아까 %를 쓸 때랑 똑같이 사용하면 됨.\n",
    "\n",
    "\"두 가지 이상 넣어야 할 때도 마찬가지\"\n",
    "\n",
    "\"My name is {0}, and your name is {1}.\".format(\"Jaeyong Lee\", \"Youngjin Jeong\")"
   ]
  },
  {
   "cell_type": "code",
   "execution_count": 65,
   "metadata": {},
   "outputs": [
    {
     "data": {
      "text/plain": [
       "\"I tried 7 times, but she didn't move. She must be scared.\""
      ]
     },
     "execution_count": 65,
     "metadata": {},
     "output_type": "execute_result"
    }
   ],
   "source": [
    "# 위 방법에서, 좀 더 직관적으로 넣고 싶을 떄.\n",
    "\n",
    "\"I tried {number} times, but she didn't move. She must be {feeling}.\".format(number=7, feeling=\"scared\")"
   ]
  },
  {
   "cell_type": "code",
   "execution_count": 68,
   "metadata": {},
   "outputs": [
    {
     "data": {
      "text/plain": [
       "'hi        '"
      ]
     },
     "execution_count": 68,
     "metadata": {},
     "output_type": "execute_result"
    }
   ],
   "source": [
    "# 문자열의 왼쪽 정렬\n",
    "\n",
    "\"{0:<10}\".format(\"hi\")"
   ]
  },
  {
   "cell_type": "code",
   "execution_count": 71,
   "metadata": {},
   "outputs": [
    {
     "data": {
      "text/plain": [
       "'       bye'"
      ]
     },
     "execution_count": 71,
     "metadata": {},
     "output_type": "execute_result"
    }
   ],
   "source": [
    "# 오른쪽 정렬 \n",
    "\n",
    "\"{0:>10}\".format(\"bye\")"
   ]
  },
  {
   "cell_type": "code",
   "execution_count": 72,
   "metadata": {},
   "outputs": [
    {
     "data": {
      "text/plain": [
       "'  middle  '"
      ]
     },
     "execution_count": 72,
     "metadata": {},
     "output_type": "execute_result"
    }
   ],
   "source": [
    "# 가운데 정렬\n",
    "\n",
    "\"{0:^10}\".format(\"middle\")"
   ]
  },
  {
   "cell_type": "code",
   "execution_count": 73,
   "metadata": {},
   "outputs": [
    {
     "data": {
      "text/plain": [
       "'yaho======'"
      ]
     },
     "execution_count": 73,
     "metadata": {},
     "output_type": "execute_result"
    }
   ],
   "source": [
    "# 정렬할 때, 공백 대신에 채워넣을 문자를 지정할 수도 있음 ㅋㅋ\n",
    "\n",
    "\"{0:=<10}\".format(\"yaho\")"
   ]
  },
  {
   "cell_type": "code",
   "execution_count": 74,
   "metadata": {},
   "outputs": [
    {
     "data": {
      "text/plain": [
       "'3.141593'"
      ]
     },
     "execution_count": 74,
     "metadata": {},
     "output_type": "execute_result"
    }
   ],
   "source": [
    "# format 함수에서도 0.5f의 소수점 자릿수 제한 가능\n",
    "\n",
    "\"{0:0.6f}\".format(3.14159265358979)"
   ]
  },
  {
   "cell_type": "code",
   "execution_count": 75,
   "metadata": {},
   "outputs": [
    {
     "data": {
      "text/plain": [
       "'{ and }'"
      ]
     },
     "execution_count": 75,
     "metadata": {},
     "output_type": "execute_result"
    }
   ],
   "source": [
    "# format 함수를 이용하면서 {} 기호를 쓰는 경우, 문자 자체를 프린트하려면 {{, }} 써야 함.\n",
    "\n",
    "\"{{ and }}\".format ()"
   ]
  },
  {
   "cell_type": "code",
   "execution_count": 76,
   "metadata": {},
   "outputs": [
    {
     "data": {
      "text/plain": [
       "'내 이름은 홍길동. 나이는 20.'"
      ]
     },
     "execution_count": 76,
     "metadata": {},
     "output_type": "execute_result"
    }
   ],
   "source": [
    "# f 문자열 포매팅 (파이썬 3.6부터 사용가능)\n",
    "\n",
    "name = '홍길동'\n",
    "age = 20\n",
    "\n",
    "f'내 이름은 {name}. 나이는 {age}.'"
   ]
  },
  {
   "cell_type": "code",
   "execution_count": 77,
   "metadata": {},
   "outputs": [
    {
     "data": {
      "text/plain": [
       "'내년에 나는 21살이 된다.'"
      ]
     },
     "execution_count": 77,
     "metadata": {},
     "output_type": "execute_result"
    }
   ],
   "source": [
    "# 도중에 수식 사용도 가능\n",
    "\n",
    "f'내년에 나는 {age + 1}살이 된다.'"
   ]
  },
  {
   "cell_type": "code",
   "execution_count": 79,
   "metadata": {},
   "outputs": [
    {
     "data": {
      "text/plain": [
       "'내 이름은 홍길동. 나이는 20.'"
      ]
     },
     "execution_count": 79,
     "metadata": {},
     "output_type": "execute_result"
    }
   ],
   "source": [
    "# 딕셔너리도 사용 가능.\n",
    "\n",
    "d = {'name':'홍길동', 'age':20}\n",
    "\n",
    "f'내 이름은 {d[\"name\"]}. 나이는 {d[\"age\"]}.'"
   ]
  },
  {
   "cell_type": "code",
   "execution_count": 80,
   "metadata": {},
   "outputs": [
    {
     "data": {
      "text/plain": [
       "'hi        '"
      ]
     },
     "execution_count": 80,
     "metadata": {},
     "output_type": "execute_result"
    }
   ],
   "source": [
    "# 정렬\n",
    "\n",
    "f'{\"hi\":<10}'  #왼쪽 정렬   # >면 오른쪽 정렬, ^면 중앙 정렬"
   ]
  },
  {
   "cell_type": "code",
   "execution_count": 83,
   "metadata": {},
   "outputs": [
    {
     "data": {
      "text/plain": [
       "'====hi===='"
      ]
     },
     "execution_count": 83,
     "metadata": {},
     "output_type": "execute_result"
    }
   ],
   "source": [
    "# 공백 채우기 \n",
    "\n",
    "f'{\"hi\":=^10}'\n",
    "\n",
    "# = 라는 문자를 나머지에 채우고 총 10개의 문자로 된 문자열을 만드는데 ^니까 중앙에 정렬"
   ]
  },
  {
   "cell_type": "code",
   "execution_count": 84,
   "metadata": {},
   "outputs": [
    {
     "data": {
      "text/plain": [
       "'3.14159'"
      ]
     },
     "execution_count": 84,
     "metadata": {},
     "output_type": "execute_result"
    }
   ],
   "source": [
    "# 소수점\n",
    "\n",
    "y=3.1415926535897932384\n",
    "\n",
    "f'{y:0.5f}' #소수점 5자리까지만"
   ]
  },
  {
   "cell_type": "code",
   "execution_count": 85,
   "metadata": {},
   "outputs": [
    {
     "data": {
      "text/plain": [
       "'   3.14159'"
      ]
     },
     "execution_count": 85,
     "metadata": {},
     "output_type": "execute_result"
    }
   ],
   "source": [
    "f'{y:10.5f}'    #소수점 5자리까지 하고, 총 문자열 길이를 10개로 맞춤"
   ]
  },
  {
   "cell_type": "code",
   "execution_count": 86,
   "metadata": {},
   "outputs": [
    {
     "data": {
      "text/plain": [
       "'{ and }'"
      ]
     },
     "execution_count": 86,
     "metadata": {},
     "output_type": "execute_result"
    }
   ],
   "source": [
    "# 이것 역시 { } 기호 자체를 쓰고 싶으면 {{ }} 이렇게 해야 함\n",
    "\n",
    "f'{{ and }}'"
   ]
  },
  {
   "cell_type": "code",
   "execution_count": 93,
   "metadata": {},
   "outputs": [
    {
     "data": {
      "text/plain": [
       "2"
      ]
     },
     "execution_count": 93,
     "metadata": {},
     "output_type": "execute_result"
    }
   ],
   "source": [
    "# 문자열 관련 함수들\n",
    "\n",
    "# 1. Count\n",
    "\n",
    "a = \"Girlfriend\"\n",
    "\n",
    "a.count('r')\n",
    "\n",
    "# 주어진 문자열에 특정 글자의 개수 카운팅"
   ]
  },
  {
   "cell_type": "code",
   "execution_count": 97,
   "metadata": {},
   "outputs": [
    {
     "name": "stdout",
     "output_type": "stream",
     "text": [
      "7\n"
     ]
    },
    {
     "data": {
      "text/plain": [
       "-1"
      ]
     },
     "execution_count": 97,
     "metadata": {},
     "output_type": "execute_result"
    }
   ],
   "source": [
    "# 2. Find\n",
    "\n",
    "b = 'I love you'\n",
    "\n",
    "print(b.find('y')) # 주어진 글자가 처음으로 몇 번쨰에 나오는지 (0부터 시작)\n",
    "\n",
    "b.find('p') # 없으면 -1을 반환."
   ]
  },
  {
   "cell_type": "code",
   "execution_count": 100,
   "metadata": {},
   "outputs": [
    {
     "data": {
      "text/plain": [
       "3"
      ]
     },
     "execution_count": 100,
     "metadata": {},
     "output_type": "execute_result"
    }
   ],
   "source": [
    "# 3. index\n",
    "\n",
    "b.index('o')\n",
    "\n",
    "#index는 find와 달리 없으면 오류를 뿜음."
   ]
  },
  {
   "cell_type": "code",
   "execution_count": 101,
   "metadata": {},
   "outputs": [
    {
     "data": {
      "text/plain": [
       "'a, b, c, d, e, f, u'"
      ]
     },
     "execution_count": 101,
     "metadata": {},
     "output_type": "execute_result"
    }
   ],
   "source": [
    "# 4. Join (삽입)\n",
    "\n",
    "\", \".join('abcdefu')    # 리스트도 입력 가능"
   ]
  },
  {
   "cell_type": "code",
   "execution_count": 102,
   "metadata": {},
   "outputs": [
    {
     "data": {
      "text/plain": [
       "'I LOVE YOU'"
      ]
     },
     "execution_count": 102,
     "metadata": {},
     "output_type": "execute_result"
    }
   ],
   "source": [
    "# 5. Upper (소문자를 대문자로)\n",
    "\n",
    "# 반대는 Lower\n",
    "\n",
    "b.upper()"
   ]
  },
  {
   "cell_type": "code",
   "execution_count": 104,
   "metadata": {},
   "outputs": [
    {
     "data": {
      "text/plain": [
       "'hi  '"
      ]
     },
     "execution_count": 104,
     "metadata": {},
     "output_type": "execute_result"
    }
   ],
   "source": [
    "# 6. lstrip (왼쪽 공백 지우기), rstrip (오른쪽 공백 지우기), strip (양쪽 공백 다 지우기)\n",
    "\n",
    "c = '      hi  '\n",
    "\n",
    "c.lstrip()"
   ]
  },
  {
   "cell_type": "code",
   "execution_count": 108,
   "metadata": {},
   "outputs": [
    {
     "data": {
      "text/plain": [
       "'I love myself'"
      ]
     },
     "execution_count": 108,
     "metadata": {},
     "output_type": "execute_result"
    }
   ],
   "source": [
    "# 7. replace\n",
    "\n",
    "d = 'I love you'\n",
    "\n",
    "d.replace('you', 'myself')"
   ]
  },
  {
   "cell_type": "code",
   "execution_count": 110,
   "metadata": {},
   "outputs": [
    {
     "data": {
      "text/plain": [
       "['I', 'love', 'you']"
      ]
     },
     "execution_count": 110,
     "metadata": {},
     "output_type": "execute_result"
    }
   ],
   "source": [
    "# 8. split (아무것도 안쓰면 공백 기준으로 나누고, 써주면 그걸 기준으로 쪼갬.)\n",
    "\n",
    "d.split()"
   ]
  },
  {
   "cell_type": "code",
   "execution_count": null,
   "metadata": {},
   "outputs": [],
   "source": []
  }
 ],
 "metadata": {
  "interpreter": {
   "hash": "b0fa6594d8f4cbf19f97940f81e996739fb7646882a419484c72d19e05852a7e"
  },
  "kernelspec": {
   "display_name": "Python 3.9.12 64-bit",
   "language": "python",
   "name": "python3"
  },
  "language_info": {
   "codemirror_mode": {
    "name": "ipython",
    "version": 3
   },
   "file_extension": ".py",
   "mimetype": "text/x-python",
   "name": "python",
   "nbconvert_exporter": "python",
   "pygments_lexer": "ipython3",
   "version": "3.9.12"
  },
  "orig_nbformat": 4
 },
 "nbformat": 4,
 "nbformat_minor": 2
}
