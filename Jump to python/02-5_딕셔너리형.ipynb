{
 "cells": [
  {
   "cell_type": "code",
   "execution_count": 1,
   "metadata": {},
   "outputs": [],
   "source": [
    "# 딕셔너리형.\n",
    "\n",
    "# Key : Value 의 연속\n",
    "\n",
    "#기본 딕셔너리.\n",
    "\n",
    "dic = {'key1':'value1', 'key2':'value2'}\n"
   ]
  },
  {
   "cell_type": "code",
   "execution_count": 2,
   "metadata": {},
   "outputs": [
    {
     "data": {
      "text/plain": [
       "{1: 'a', 2: 'b'}"
      ]
     },
     "execution_count": 2,
     "metadata": {},
     "output_type": "execute_result"
    }
   ],
   "source": [
    "# 딕셔너리에 쌍 추가하기\n",
    "\n",
    "a = {1: 'a'}\n",
    "\n",
    "a[2] = 'b'  #이렇게 a[x] = y -> x:y 라는 쌍이 추가된다.\n",
    "\n",
    "a"
   ]
  },
  {
   "cell_type": "code",
   "execution_count": 3,
   "metadata": {},
   "outputs": [
    {
     "data": {
      "text/plain": [
       "{2: 'b'}"
      ]
     },
     "execution_count": 3,
     "metadata": {},
     "output_type": "execute_result"
    }
   ],
   "source": [
    "# 쌍 삭제하기\n",
    "\n",
    "a = {1: 'a', 2: 'b'}\n",
    "\n",
    "del a[1]\n",
    "\n",
    "a"
   ]
  },
  {
   "cell_type": "code",
   "execution_count": 5,
   "metadata": {},
   "outputs": [
    {
     "data": {
      "text/plain": [
       "'a'"
      ]
     },
     "execution_count": 5,
     "metadata": {},
     "output_type": "execute_result"
    }
   ],
   "source": [
    "# 딕셔너리 사용법 \n",
    "\n",
    "# 1) Key 이용해 Value 얻기\n",
    "\n",
    "a = {1: 'a', 2: 'b'}\n",
    "\n",
    "a[1]    # 딕셔너리이름[key] 하면 value가 출력된다.\n",
    "\n",
    "# 튜플이나 리스트의 [n]은 n째 요소를 의미하는 것이었는데, 딕셔너리는 key 자체를 의미. "
   ]
  },
  {
   "cell_type": "code",
   "execution_count": 6,
   "metadata": {},
   "outputs": [],
   "source": [
    "# Key에는 리스트 사용 불가 ! 대신 튜플은 사용 가능. (왜? 변하지 않는 값(immutable)인지 여부.)"
   ]
  },
  {
   "cell_type": "code",
   "execution_count": 9,
   "metadata": {},
   "outputs": [
    {
     "data": {
      "text/plain": [
       "dict_keys(['name', 'phone', 'address'])"
      ]
     },
     "execution_count": 9,
     "metadata": {},
     "output_type": "execute_result"
    }
   ],
   "source": [
    "# 딕셔너리 관련 함수들\n",
    "\n",
    "# 1. Keys : key 리스트 만들기 \n",
    "\n",
    "a = {'name':'홍길동', 'phone':'01012345678', 'address':'반포자이'}\n",
    "\n",
    "a.keys()"
   ]
  },
  {
   "cell_type": "code",
   "execution_count": 12,
   "metadata": {},
   "outputs": [
    {
     "name": "stdout",
     "output_type": "stream",
     "text": [
      "name\n",
      "phone\n",
      "address\n"
     ]
    }
   ],
   "source": [
    "# 리스트 자체를 반환하는 게 아니라, dict_keys 객체를 돌려준다.\n",
    "# 리스트가 필요하다면 list(a.keys())를 사용\n",
    "\n",
    "# dict_keys 객체는 반복 구문에 사용 가능. (리스트 고유의 함수는 불가)\n",
    "\n",
    "a.keys()\n",
    "\n",
    "for k in a.keys():\n",
    "    print(k)"
   ]
  },
  {
   "cell_type": "code",
   "execution_count": 13,
   "metadata": {},
   "outputs": [
    {
     "data": {
      "text/plain": [
       "dict_values(['홍길동', '01012345678', '반포자이'])"
      ]
     },
     "execution_count": 13,
     "metadata": {},
     "output_type": "execute_result"
    }
   ],
   "source": [
    "# 2. Values : value 리스트\n",
    "\n",
    "a.values()"
   ]
  },
  {
   "cell_type": "code",
   "execution_count": 14,
   "metadata": {},
   "outputs": [
    {
     "data": {
      "text/plain": [
       "dict_items([('name', '홍길동'), ('phone', '01012345678'), ('address', '반포자이')])"
      ]
     },
     "execution_count": 14,
     "metadata": {},
     "output_type": "execute_result"
    }
   ],
   "source": [
    "# 3. items : 쌍 얻기\n",
    "\n",
    "# key:value 쌍을 튜플로 묶고 dict_items 객체로 돌려준다.\n",
    "\n",
    "a.items()"
   ]
  },
  {
   "cell_type": "code",
   "execution_count": 15,
   "metadata": {},
   "outputs": [
    {
     "data": {
      "text/plain": [
       "{}"
      ]
     },
     "execution_count": 15,
     "metadata": {},
     "output_type": "execute_result"
    }
   ],
   "source": [
    "# 4. clear : 쌍 모두 지우기\n",
    "\n",
    "a. clear()\n",
    "\n",
    "a\n",
    "\n",
    "# 빈 딕셔너리는 {}으로."
   ]
  },
  {
   "cell_type": "code",
   "execution_count": 1,
   "metadata": {},
   "outputs": [
    {
     "data": {
      "text/plain": [
       "'홍길동'"
      ]
     },
     "execution_count": 1,
     "metadata": {},
     "output_type": "execute_result"
    }
   ],
   "source": [
    "# 5. Get : key로 value 얻기\n",
    "\n",
    "a = {'name':'홍길동', 'phone':'01012345678', 'address':'반포자이'}\n",
    "\n",
    "a.get('name')"
   ]
  },
  {
   "cell_type": "code",
   "execution_count": 2,
   "metadata": {},
   "outputs": [
    {
     "name": "stdout",
     "output_type": "stream",
     "text": [
      "None\n"
     ]
    }
   ],
   "source": [
    "# Key에 없는 것을 호출했을 때, \n",
    "\n",
    "# get은 None을 돌려주지만 []을 이용해 호출하면 오류를 뿜는다.   (a['없는Key'] -> 오류)\n",
    "\n",
    "print(a.get('없는key'))"
   ]
  },
  {
   "cell_type": "code",
   "execution_count": 3,
   "metadata": {},
   "outputs": [
    {
     "data": {
      "text/plain": [
       "'없으면 이거라도'"
      ]
     },
     "execution_count": 3,
     "metadata": {},
     "output_type": "execute_result"
    }
   ],
   "source": [
    "# 딕셔너리 안에 key가 없을 경우, None 대신 원하는 값이 나오게 하려면 콤마 사용\n",
    "\n",
    "a.get('없는key', '없으면 이거라도') # 그런다고 딕셔너리에 이 쌍이 추가되는 건 아님 !"
   ]
  },
  {
   "cell_type": "code",
   "execution_count": 4,
   "metadata": {},
   "outputs": [
    {
     "data": {
      "text/plain": [
       "True"
      ]
     },
     "execution_count": 4,
     "metadata": {},
     "output_type": "execute_result"
    }
   ],
   "source": [
    "# 6. in : Key가 딕셔너리 안에 있는지 조사하기\n",
    "\n",
    "a = {'name':'홍길동', 'phone':'01012345678', 'address':'반포자이'}\n",
    "\n",
    "'address' in a"
   ]
  },
  {
   "cell_type": "code",
   "execution_count": null,
   "metadata": {},
   "outputs": [],
   "source": []
  }
 ],
 "metadata": {
  "interpreter": {
   "hash": "b0fa6594d8f4cbf19f97940f81e996739fb7646882a419484c72d19e05852a7e"
  },
  "kernelspec": {
   "display_name": "Python 3.9.12 64-bit",
   "language": "python",
   "name": "python3"
  },
  "language_info": {
   "codemirror_mode": {
    "name": "ipython",
    "version": 3
   },
   "file_extension": ".py",
   "mimetype": "text/x-python",
   "name": "python",
   "nbconvert_exporter": "python",
   "pygments_lexer": "ipython3",
   "version": "3.9.12"
  },
  "orig_nbformat": 4
 },
 "nbformat": 4,
 "nbformat_minor": 2
}
