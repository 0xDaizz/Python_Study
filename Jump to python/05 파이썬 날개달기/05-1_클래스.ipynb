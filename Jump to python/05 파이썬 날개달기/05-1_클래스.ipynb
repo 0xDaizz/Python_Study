{
 "cells": [
  {
   "cell_type": "code",
   "execution_count": 1,
   "metadata": {},
   "outputs": [],
   "source": [
    "# 클래스 : 붕어빵 틀과 같음\n",
    "\n",
    "# 가장 간단한 Class 정의\n",
    "\n",
    "class Cookie: \n",
    "    pass\n",
    "\n",
    "# 껍질뿐인 클래스지만, 객체를 생성하는 기능이 있음(붕어빵을 찍어낼 수는 있음)\n",
    "\n",
    "a = Cookie()\n",
    "b = Cookie()\n",
    "\n",
    "# 이런 식으로.\n",
    "\n",
    "# a, b는 객체인데, Cookie와의 관계적으로 설명하자면 a, b는 Cookie의 인스턴스다 라고 할 수 있음"
   ]
  },
  {
   "cell_type": "code",
   "execution_count": null,
   "metadata": {},
   "outputs": [],
   "source": [
    "# 클래스는 무작정 만들기보다 객체 중심으로 어떻게 동작하게 할 것인지 생각해보는 게 좋음\n",
    "\n",
    "# a = FourCal() 로 객체 a를 만들고\n",
    "\n",
    "# a.setdata(4,2) 이런 식으로 두 수를 지정하고\n",
    "\n",
    "# a.add() 하면 더하고\n",
    "#...\n",
    "\n"
   ]
  }
 ],
 "metadata": {
  "interpreter": {
   "hash": "b0fa6594d8f4cbf19f97940f81e996739fb7646882a419484c72d19e05852a7e"
  },
  "kernelspec": {
   "display_name": "Python 3.9.12 64-bit",
   "language": "python",
   "name": "python3"
  },
  "language_info": {
   "codemirror_mode": {
    "name": "ipython",
    "version": 3
   },
   "file_extension": ".py",
   "mimetype": "text/x-python",
   "name": "python",
   "nbconvert_exporter": "python",
   "pygments_lexer": "ipython3",
   "version": "3.9.12"
  },
  "orig_nbformat": 4
 },
 "nbformat": 4,
 "nbformat_minor": 2
}
