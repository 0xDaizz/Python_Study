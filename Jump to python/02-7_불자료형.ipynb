{
 "cells": [
  {
   "cell_type": "code",
   "execution_count": 1,
   "metadata": {},
   "outputs": [
    {
     "data": {
      "text/plain": [
       "bool"
      ]
     },
     "execution_count": 1,
     "metadata": {},
     "output_type": "execute_result"
    }
   ],
   "source": [
    "# 불 (bool) 자료형 : True & False. \n",
    "\n",
    "# 파이썬의 예약어이기 때문에 항상 첫 글자 대문자로 써야 함 (True False)\n",
    "\n",
    "a = True\n",
    "\n",
    "type(a)"
   ]
  },
  {
   "cell_type": "code",
   "execution_count": 2,
   "metadata": {},
   "outputs": [
    {
     "data": {
      "text/plain": [
       "True"
      ]
     },
     "execution_count": 2,
     "metadata": {},
     "output_type": "execute_result"
    }
   ],
   "source": [
    "# 조건문에서 사용됨. \n",
    "\n",
    "1 == 1  # -> 1은 1과 같은가?"
   ]
  },
  {
   "cell_type": "code",
   "execution_count": 3,
   "metadata": {},
   "outputs": [],
   "source": [
    "# 자료형의 참, 거짓\n",
    "\n",
    "# 비어있는 무언가 + None은 거짓 취급\n",
    "\n",
    "# 참 :\n",
    "# \"무언가\", [1, 2, 3], 1\n",
    "\n",
    "# 거짓 :\n",
    "# \"\", [], {}, (), 0, None"
   ]
  },
  {
   "cell_type": "code",
   "execution_count": 5,
   "metadata": {},
   "outputs": [
    {
     "name": "stdout",
     "output_type": "stream",
     "text": [
      "4\n",
      "3\n",
      "2\n",
      "1\n"
     ]
    }
   ],
   "source": [
    "# 예시 \n",
    "\n",
    "a = [1, 2, 3, 4]\n",
    "\n",
    "while a: \n",
    "    print (a.pop())\n",
    "\n",
    "\n",
    "    # While :  조건문이 참인 동안 수행할 문장 반복"
   ]
  }
 ],
 "metadata": {
  "interpreter": {
   "hash": "b0fa6594d8f4cbf19f97940f81e996739fb7646882a419484c72d19e05852a7e"
  },
  "kernelspec": {
   "display_name": "Python 3.9.12 64-bit",
   "language": "python",
   "name": "python3"
  },
  "language_info": {
   "codemirror_mode": {
    "name": "ipython",
    "version": 3
   },
   "file_extension": ".py",
   "mimetype": "text/x-python",
   "name": "python",
   "nbconvert_exporter": "python",
   "pygments_lexer": "ipython3",
   "version": "3.9.12"
  },
  "orig_nbformat": 4
 },
 "nbformat": 4,
 "nbformat_minor": 2
}
