{
 "cells": [
  {
   "cell_type": "code",
   "execution_count": 2,
   "metadata": {},
   "outputs": [],
   "source": [
    "# While문의 기본 구조\n",
    "\n",
    "while '~~하는 동안' :\n",
    "    '수행할 문장1'\n",
    "    '수행할 문장2'\n",
    "    '...'\n",
    "    break   # 요거 없으면 이거 무한루프 ㅋㅋ"
   ]
  },
  {
   "cell_type": "code",
   "execution_count": 4,
   "metadata": {},
   "outputs": [
    {
     "name": "stdout",
     "output_type": "stream",
     "text": [
      "나무를 1번 찍었습니다.\n",
      "나무를 2번 찍었습니다.\n",
      "나무를 3번 찍었습니다.\n",
      "나무를 4번 찍었습니다.\n",
      "나무를 5번 찍었습니다.\n",
      "나무를 6번 찍었습니다.\n",
      "나무를 7번 찍었습니다.\n",
      "나무를 8번 찍었습니다.\n",
      "나무를 9번 찍었습니다.\n",
      "나무를 10번 찍었습니다.\n",
      "나무가 넘어갑니다.\n"
     ]
    }
   ],
   "source": [
    "# 예시 \n",
    "\n",
    "treeHit = 0\n",
    "\n",
    "while treeHit < 10 :\n",
    "    treeHit += 1\n",
    "    print(\"나무를 %d번 찍었습니다.\" % treeHit)  # %d 넣고 뒤에 % 변수 이렇게 해주는 스낄 기억하자\n",
    "\n",
    "    if treeHit == 10 :\n",
    "        print(\"나무가 넘어갑니다.\")"
   ]
  },
  {
   "cell_type": "code",
   "execution_count": 5,
   "metadata": {},
   "outputs": [],
   "source": [
    "# 예시 2\n",
    "\n",
    "prompt = \"\"\"\n",
    "... 1. Add\n",
    "... 2. Del\n",
    "... 3. List\n",
    "... 4. Quit\n",
    "...\n",
    "... Enter number : \"\"\""
   ]
  },
  {
   "cell_type": "code",
   "execution_count": 6,
   "metadata": {},
   "outputs": [
    {
     "name": "stdout",
     "output_type": "stream",
     "text": [
      "\n",
      "... 1. Add\n",
      "... 2. Del\n",
      "... 3. List\n",
      "... 4. Quit\n",
      "...\n",
      "... Enter number : \n",
      "\n",
      "... 1. Add\n",
      "... 2. Del\n",
      "... 3. List\n",
      "... 4. Quit\n",
      "...\n",
      "... Enter number : \n",
      "\n",
      "... 1. Add\n",
      "... 2. Del\n",
      "... 3. List\n",
      "... 4. Quit\n",
      "...\n",
      "... Enter number : \n",
      "\n",
      "... 1. Add\n",
      "... 2. Del\n",
      "... 3. List\n",
      "... 4. Quit\n",
      "...\n",
      "... Enter number : \n"
     ]
    }
   ],
   "source": [
    "number = 0\n",
    "\n",
    "while number != 4 :\n",
    "    print(prompt)\n",
    "    number = int(input())   # 사용자의 숫자 입력을 받아들이는 것.\n",
    "\n",
    "    # 4를 입력할때까지 계속 prompt 출력하고 입력창을 띄운다."
   ]
  },
  {
   "cell_type": "code",
   "execution_count": 7,
   "metadata": {},
   "outputs": [
    {
     "name": "stdout",
     "output_type": "stream",
     "text": [
      "커피를 드립니다.\n",
      "남은 커피의 수는 9개입니다.\n",
      "커피를 드립니다.\n",
      "남은 커피의 수는 8개입니다.\n",
      "커피를 드립니다.\n",
      "남은 커피의 수는 7개입니다.\n",
      "커피를 드립니다.\n",
      "남은 커피의 수는 6개입니다.\n",
      "커피를 드립니다.\n",
      "남은 커피의 수는 5개입니다.\n",
      "커피를 드립니다.\n",
      "남은 커피의 수는 4개입니다.\n",
      "커피를 드립니다.\n",
      "남은 커피의 수는 3개입니다.\n",
      "커피를 드립니다.\n",
      "남은 커피의 수는 2개입니다.\n",
      "커피를 드립니다.\n",
      "남은 커피의 수는 1개입니다.\n",
      "커피를 드립니다.\n",
      "남은 커피의 수는 0개입니다.\n",
      "커피 품절\n"
     ]
    }
   ],
   "source": [
    "# Break\n",
    "\n",
    "coffee = 10\n",
    "\n",
    "money = 300\n",
    "\n",
    "while money :                       # money 값은 고정이라서, 항상 참이 되므로 무한루프 돈다. 따라서 끝에 break 해줘야 함\n",
    "    print('커피를 드립니다.')\n",
    "    coffee -= 1\n",
    "    print('남은 커피의 수는 %d개입니다.' % coffee)\n",
    "\n",
    "    if coffee == 0 :\n",
    "        print('커피 품절')\n",
    "        break"
   ]
  },
  {
   "cell_type": "code",
   "execution_count": 11,
   "metadata": {},
   "outputs": [
    {
     "name": "stdout",
     "output_type": "stream",
     "text": [
      "거스름돈 700를 주고 커피를 줍니다.\n",
      "커피를 줍니다.\n",
      "금액이 부족해 돈을 다시 반환합니다.\n",
      "남은 커피의 개수는 1개 입니다.\n",
      "금액이 부족해 돈을 다시 반환합니다.\n",
      "남은 커피의 개수는 1개 입니다.\n",
      "거스름돈 4700를 주고 커피를 줍니다.\n",
      "커피 품절\n"
     ]
    }
   ],
   "source": [
    "# 실제 자판기스럽게 만든 코드\n",
    "\n",
    "# coffee.py\n",
    "\n",
    "coffee = 3\n",
    "\n",
    "while True:\n",
    "    money = int(input('돈을 넣어 주세요 : '))\n",
    "\n",
    "    if money == 300 :\n",
    "        print ('커피를 줍니다.')\n",
    "        coffee -= 1\n",
    "    elif money > 300 :\n",
    "        print ('거스름돈 %d를 주고 커피를 줍니다.' % (money-300))\n",
    "        coffee -= 1\n",
    "    else :\n",
    "        print ('금액이 부족해 돈을 다시 반환합니다.')\n",
    "        print ('남은 커피의 개수는 %d개 입니다.' % coffee)\n",
    "    \n",
    "    if coffee == 0 :\n",
    "        print ('커피 품절')\n",
    "        break"
   ]
  },
  {
   "cell_type": "code",
   "execution_count": 13,
   "metadata": {},
   "outputs": [
    {
     "name": "stdout",
     "output_type": "stream",
     "text": [
      "1\n",
      "3\n",
      "5\n",
      "7\n",
      "9\n"
     ]
    }
   ],
   "source": [
    "# While 문의 처음으로 돌아가기\n",
    "\n",
    "# -> continue를 사용하면 됨\n",
    "\n",
    "# 홀수만 출력하는 코드를 보자.\n",
    "\n",
    "a = 0\n",
    "\n",
    "while a < 10 :\n",
    "\n",
    "    a += 1\n",
    "    \n",
    "    if a % 2 == 0 : continue    #continue가 나오는 즉시 도돌이표처럼 while의 처음으로 돌아감. 따라서 짝수인 경우 print(a)를 건드리지 않는다.\n",
    "\n",
    "    print (a)"
   ]
  },
  {
   "cell_type": "code",
   "execution_count": 15,
   "metadata": {},
   "outputs": [],
   "source": [
    "# 무조건적인 무한 루프 만들기\n",
    "\n",
    "while True :        # 조건문이 True로 항상 참이기 때문에 무한루프 확정.\n",
    "    '어쩌고'\n",
    "    '저쩌고'\n",
    "\n",
    "    break"
   ]
  }
 ],
 "metadata": {
  "interpreter": {
   "hash": "b0fa6594d8f4cbf19f97940f81e996739fb7646882a419484c72d19e05852a7e"
  },
  "kernelspec": {
   "display_name": "Python 3.9.12 64-bit",
   "language": "python",
   "name": "python3"
  },
  "language_info": {
   "codemirror_mode": {
    "name": "ipython",
    "version": 3
   },
   "file_extension": ".py",
   "mimetype": "text/x-python",
   "name": "python",
   "nbconvert_exporter": "python",
   "pygments_lexer": "ipython3",
   "version": "3.9.12"
  },
  "orig_nbformat": 4
 },
 "nbformat": 4,
 "nbformat_minor": 2
}
