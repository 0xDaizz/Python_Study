{
 "cells": [
  {
   "cell_type": "code",
   "execution_count": 1,
   "metadata": {},
   "outputs": [],
   "source": [
    "# 출력할 때 print 등등을 써 왔음. 하지만 이것만 방법이 있는 게 아님!\n",
    "\n",
    "# 새 파일을 만들어서 거기로 출력하는 등의 방법도 있다."
   ]
  },
  {
   "cell_type": "code",
   "execution_count": 4,
   "metadata": {},
   "outputs": [],
   "source": [
    "# 파일 생성하기\n",
    "\n",
    "file = open(\"newfile.txt\", 'w')     # 디렉토리에 newfile.txt가 생겼음!\n",
    "file.close()"
   ]
  },
  {
   "cell_type": "code",
   "execution_count": 5,
   "metadata": {},
   "outputs": [
    {
     "data": {
      "text/plain": [
       "'파일이 없을 경우에는 새로 하나 만듦'"
      ]
     },
     "execution_count": 5,
     "metadata": {},
     "output_type": "execute_result"
    }
   ],
   "source": [
    "# open 함수 사용법\n",
    "\n",
    "# open (파일이름, 열기 모드)\n",
    "\n",
    "'열기 모드는 세 가지 있음'\n",
    "\n",
    "'r = 읽기 전용'\n",
    "'w = 쓰기 가능'\n",
    "'a = 추가 모드 (파일 끝에 새로운 내용 추가할 때)'\n",
    "\n",
    "\"쓰기 모드 (w)로 열 경우, 이미 존재할 경우에는 원래 내용 모두 지워짐 !!!\"\n",
    "\"파일이 없을 경우에는 새로 하나 만듦\""
   ]
  },
  {
   "cell_type": "code",
   "execution_count": 6,
   "metadata": {},
   "outputs": [
    {
     "data": {
      "text/plain": [
       "'C:\\\\doit\\\\python.py'"
      ]
     },
     "execution_count": 6,
     "metadata": {},
     "output_type": "execute_result"
    }
   ],
   "source": [
    "# 파일 경로 지정법\n",
    "\n",
    "'C:/doit/python.py'     #이렇게 / 슬래시 이용해 지정하거나...\n",
    "\n",
    "'C:\\\\doit\\\\python.py'   #이렇게 \\\\ 백슬래시 두 개로 지정해야 함.\n",
    "\n",
    "# 왜냐면 \\n 과 같이 이스케이프 문자로 오인될 수 있기 때문.\n",
    "\n",
    "# 굳이 하나로만 쓰고 싶다면 문자열 앞에 r 써서 Raw string으로 만들어 줘야함.\n",
    "\n",
    "r'C:\\doit\\python.py'    # 이렇게"
   ]
  },
  {
   "cell_type": "code",
   "execution_count": 9,
   "metadata": {},
   "outputs": [],
   "source": [
    "# 파일에 출력값 쓰기\n",
    "\n",
    "f = open ('newfile.txt', 'w')\n",
    "\n",
    "for i in range (1, 8):\n",
    "    star = \"*\"*i + '\\n'\n",
    "\n",
    "    f.write(star)\n",
    "\n",
    "f.close()"
   ]
  },
  {
   "cell_type": "code",
   "execution_count": 10,
   "metadata": {},
   "outputs": [
    {
     "name": "stdout",
     "output_type": "stream",
     "text": [
      "*\n",
      "\n"
     ]
    }
   ],
   "source": [
    "# 파일의 내용 읽어들이기 (readline)\n",
    "\n",
    "fl = open('newfile.txt', 'r')\n",
    "\n",
    "line = fl.readline()    # 첫 줄을 읽어옴\n",
    "print (line)\n",
    "f.close()"
   ]
  },
  {
   "cell_type": "code",
   "execution_count": 11,
   "metadata": {},
   "outputs": [
    {
     "name": "stdout",
     "output_type": "stream",
     "text": [
      "*\n",
      "\n",
      "**\n",
      "\n",
      "***\n",
      "\n",
      "****\n",
      "\n",
      "*****\n",
      "\n",
      "******\n",
      "\n",
      "*******\n",
      "\n"
     ]
    }
   ],
   "source": [
    "# 모든 줄을 읽어들이기 \n",
    "fl = open('newfile.txt', 'r')\n",
    "\n",
    "while True :\n",
    "\n",
    "    line = fl.readline()\n",
    "    if not line : break # readline 함수는 읽을 줄이 없는 경우 '' 빈 문자열을 출력함\n",
    "    print (line)\n",
    "\n",
    "fl.close()"
   ]
  },
  {
   "cell_type": "code",
   "execution_count": 15,
   "metadata": {},
   "outputs": [
    {
     "name": "stdout",
     "output_type": "stream",
     "text": [
      "*\n",
      "\n",
      "**\n",
      "\n",
      "***\n",
      "\n",
      "****\n",
      "\n",
      "*****\n",
      "\n",
      "******\n",
      "\n",
      "*******\n",
      "\n"
     ]
    },
    {
     "data": {
      "text/plain": [
       "<function TextIOWrapper.close()>"
      ]
     },
     "execution_count": 15,
     "metadata": {},
     "output_type": "execute_result"
    }
   ],
   "source": [
    "# readlines 함수 사용 (s 있음!)\n",
    "\n",
    "# readlines는 파일의 모든 줄을 읽어서 리스트로 돌려주는 함수.\n",
    "fl = open('newfile.txt', 'r')\n",
    "\n",
    "lines = fl.readlines()\n",
    "\n",
    "for l in lines :\n",
    "    line = line.strip() #줄 끝의 \\n을 제거\n",
    "    print(l)\n",
    "\n",
    "fl.close"
   ]
  },
  {
   "cell_type": "code",
   "execution_count": 17,
   "metadata": {},
   "outputs": [
    {
     "name": "stdout",
     "output_type": "stream",
     "text": [
      "*\n",
      "**\n",
      "***\n",
      "****\n",
      "*****\n",
      "******\n",
      "*******\n",
      "\n"
     ]
    }
   ],
   "source": [
    "# read 함수로 파일 전체를 돌려받을 수도 있음\n",
    "\n",
    "fl = open('newfile.txt', 'r')\n",
    "\n",
    "data = fl.read()\n",
    "\n",
    "print(data)\n",
    "\n",
    "fl.close()"
   ]
  },
  {
   "cell_type": "code",
   "execution_count": null,
   "metadata": {},
   "outputs": [],
   "source": []
  }
 ],
 "metadata": {
  "interpreter": {
   "hash": "b0fa6594d8f4cbf19f97940f81e996739fb7646882a419484c72d19e05852a7e"
  },
  "kernelspec": {
   "display_name": "Python 3.9.12 64-bit",
   "language": "python",
   "name": "python3"
  },
  "language_info": {
   "codemirror_mode": {
    "name": "ipython",
    "version": 3
   },
   "file_extension": ".py",
   "mimetype": "text/x-python",
   "name": "python",
   "nbconvert_exporter": "python",
   "pygments_lexer": "ipython3",
   "version": "3.9.12"
  },
  "orig_nbformat": 4
 },
 "nbformat": 4,
 "nbformat_minor": 2
}
