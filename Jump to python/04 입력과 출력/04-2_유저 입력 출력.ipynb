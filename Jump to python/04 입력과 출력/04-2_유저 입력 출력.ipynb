{
 "cells": [
  {
   "cell_type": "code",
   "execution_count": 2,
   "metadata": {},
   "outputs": [
    {
     "name": "stdout",
     "output_type": "stream",
     "text": [
      "44\n"
     ]
    }
   ],
   "source": [
    "# 사용자가 입력한 내용을 대입하고 싶을 떄?\n",
    "\n",
    "# input() 가 있음\n",
    "\n",
    "# input('질문 내용').   #자바스크립트의 prompt와 동일한 느낌.\n",
    "\n",
    "a = input('숫자를 입력하세요 : ')\n",
    "\n",
    "print(a)\n",
    "\n",
    "# but, input 함수는 입력되는 내용을 '문자열'로 취급!!!!!!!"
   ]
  },
  {
   "cell_type": "code",
   "execution_count": 3,
   "metadata": {},
   "outputs": [
    {
     "name": "stdout",
     "output_type": "stream",
     "text": [
      "안녕\n"
     ]
    }
   ],
   "source": [
    "# print문의 사용법 !\n",
    "\n",
    "'1. 큰따옴표로 둘러싸인 문자열은 +연산과 동일'\n",
    "\n",
    "print (\"안\" \"녕\")"
   ]
  },
  {
   "cell_type": "code",
   "execution_count": 7,
   "metadata": {},
   "outputs": [
    {
     "name": "stdout",
     "output_type": "stream",
     "text": [
      "일 더하기 일은 귀요미\n"
     ]
    }
   ],
   "source": [
    "'2. 문자열 띄어쓰기는 콤마로!'\n",
    "\n",
    "print ('일','더하기','일은', '귀요미')  # 콤마 뒤에 띄어쓰기 하든 안하든 상관 없음"
   ]
  },
  {
   "cell_type": "code",
   "execution_count": 8,
   "metadata": {},
   "outputs": [
    {
     "name": "stdout",
     "output_type": "stream",
     "text": [
      "0\n",
      "1\n",
      "2\n",
      "3\n",
      "4\n",
      "5\n",
      "6\n",
      "7\n",
      "8\n",
      "9\n"
     ]
    }
   ],
   "source": [
    "'3. 한 줄에 결괏값을 출력하기'\n",
    "\n",
    "# end를 이용해 끝 문자를 지정\n",
    "\n",
    "# 원래대로라면 : \n",
    "for i in range(0, 10):\n",
    "    print(i)"
   ]
  },
  {
   "cell_type": "code",
   "execution_count": 11,
   "metadata": {},
   "outputs": [
    {
     "name": "stdout",
     "output_type": "stream",
     "text": [
      "0#1#2#3#4#5#6#7#8#9#"
     ]
    }
   ],
   "source": [
    "# end를 이용해 지정을 하면?\n",
    "\n",
    "for i in range(0, 10):\n",
    "    print(i, end='#')"
   ]
  },
  {
   "cell_type": "code",
   "execution_count": 12,
   "metadata": {},
   "outputs": [
    {
     "name": "stdout",
     "output_type": "stream",
     "text": [
      "0 1 2 3 4 5 6 7 8 9 "
     ]
    }
   ],
   "source": [
    "# 샵 대신에 띄어쓰기 빈칸으로 남겨두면 깔끔!\n",
    "\n",
    "for i in range(0, 10):\n",
    "    print(i, end = ' ')"
   ]
  },
  {
   "cell_type": "code",
   "execution_count": null,
   "metadata": {},
   "outputs": [],
   "source": []
  }
 ],
 "metadata": {
  "interpreter": {
   "hash": "b0fa6594d8f4cbf19f97940f81e996739fb7646882a419484c72d19e05852a7e"
  },
  "kernelspec": {
   "display_name": "Python 3.9.12 64-bit",
   "language": "python",
   "name": "python3"
  },
  "language_info": {
   "codemirror_mode": {
    "name": "ipython",
    "version": 3
   },
   "file_extension": ".py",
   "mimetype": "text/x-python",
   "name": "python",
   "nbconvert_exporter": "python",
   "pygments_lexer": "ipython3",
   "version": "3.9.12"
  },
  "orig_nbformat": 4
 },
 "nbformat": 4,
 "nbformat_minor": 2
}
