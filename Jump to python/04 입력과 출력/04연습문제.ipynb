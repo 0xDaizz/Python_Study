{
 "cells": [
  {
   "cell_type": "code",
   "execution_count": 1,
   "metadata": {},
   "outputs": [
    {
     "data": {
      "text/plain": [
       "True"
      ]
     },
     "execution_count": 1,
     "metadata": {},
     "output_type": "execute_result"
    }
   ],
   "source": [
    "# Q1\n",
    "\n",
    "def is_odd (a) :\n",
    "    if a % 2 == 0:\n",
    "        return False\n",
    "    else : return True\n",
    "\n",
    "# a 가 홀수면 True, 짝수면 False 출력\n",
    "\n",
    "is_odd(5)"
   ]
  },
  {
   "cell_type": "code",
   "execution_count": 2,
   "metadata": {},
   "outputs": [
    {
     "data": {
      "text/plain": [
       "5.0"
      ]
     },
     "execution_count": 2,
     "metadata": {},
     "output_type": "execute_result"
    }
   ],
   "source": [
    "# Q2\n",
    "\n",
    "def avg(*args):\n",
    "    sum = 0\n",
    "    for i in args:\n",
    "        sum += i\n",
    "    average = sum/len(args)\n",
    "    return average\n",
    "\n",
    "avg(5,4,6)\n",
    "    "
   ]
  },
  {
   "cell_type": "code",
   "execution_count": 5,
   "metadata": {},
   "outputs": [
    {
     "name": "stdout",
     "output_type": "stream",
     "text": [
      "두 수의 합은 12 입니다.\n"
     ]
    }
   ],
   "source": [
    "# Q3 \n",
    "\n",
    "'오류가 나는 이유: input함수는 입력값을 숫자가 아니라 str으로 받기 때문.'\n",
    "\n",
    "input1 = input('첫 번째 숫자를 입력하세요 : ')\n",
    "\n",
    "input2 = input('두 번째 숫자를 입력하세요 : ')\n",
    "\n",
    "total = int(input1) + int(input2)\n",
    "\n",
    "print(\"두 수의 합은 %s 입니다.\" % total)"
   ]
  },
  {
   "cell_type": "code",
   "execution_count": 8,
   "metadata": {},
   "outputs": [
    {
     "data": {
      "text/plain": [
       "'3번은 you need python 으로 연결'"
      ]
     },
     "execution_count": 8,
     "metadata": {},
     "output_type": "execute_result"
    }
   ],
   "source": [
    "# Q4\n",
    "\n",
    "'print함수의 특징'\n",
    "\n",
    "'3번.'\n",
    "\n",
    "'나머지는 youneedpython 처럼 연결되지만,'\n",
    "'3번은 you need python 으로 연결'\n",
    "\n",
    "# print 함수 내 문자열들 사이 ,를 찍으면 띄어쓰기 가능"
   ]
  },
  {
   "cell_type": "code",
   "execution_count": 16,
   "metadata": {},
   "outputs": [
    {
     "name": "stdout",
     "output_type": "stream",
     "text": [
      "Life is too short\n"
     ]
    }
   ],
   "source": [
    "# Q5\n",
    "\n",
    "f1 = open('test.txt', 'w')\n",
    "f1.write(\"Life is too short\")\n",
    "\n",
    "f1.close()  # 요게 빠져서 안 되었을 것임\n",
    "\n",
    "f2 = open('test.txt', 'r')\n",
    "print(f2.read())"
   ]
  },
  {
   "cell_type": "code",
   "execution_count": 21,
   "metadata": {},
   "outputs": [],
   "source": [
    "# Q6\n",
    "\n",
    "f_add = open('test.txt', 'a')\n",
    "\n",
    "usrInput = input('추가할 내용을 입력하세요') + '\\n'\n",
    "\n",
    "f_add.write(usrInput)\n",
    "\n",
    "f_add.close()"
   ]
  },
  {
   "cell_type": "code",
   "execution_count": 22,
   "metadata": {},
   "outputs": [],
   "source": [
    "# Q7    답지보고 하긴 했는데.. 알아두자!!\n",
    "\n",
    "ff = open('test.txt', 'r')\n",
    "\n",
    "readd = ff.read()\n",
    "\n",
    "ff.close()\n",
    "\n",
    "\n",
    "readd = readd.replace('short', 'long')  # 오래된 거 , 바꿀 거 이렇게 사용!\n",
    "\n",
    "ff2 = open('test.txt', 'w')\n",
    "\n",
    "ff2.write(readd)\n",
    "\n",
    "ff2.close()\n"
   ]
  }
 ],
 "metadata": {
  "interpreter": {
   "hash": "b0fa6594d8f4cbf19f97940f81e996739fb7646882a419484c72d19e05852a7e"
  },
  "kernelspec": {
   "display_name": "Python 3.9.12 64-bit",
   "language": "python",
   "name": "python3"
  },
  "language_info": {
   "codemirror_mode": {
    "name": "ipython",
    "version": 3
   },
   "file_extension": ".py",
   "mimetype": "text/x-python",
   "name": "python",
   "nbconvert_exporter": "python",
   "pygments_lexer": "ipython3",
   "version": "3.9.12"
  },
  "orig_nbformat": 4
 },
 "nbformat": 4,
 "nbformat_minor": 2
}
