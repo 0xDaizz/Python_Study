{
 "cells": [
  {
   "cell_type": "code",
   "execution_count": 1,
   "metadata": {},
   "outputs": [],
   "source": [
    "# 함수의 구조\n",
    "\n",
    "def 함수이름(x) : \n",
    "    '수행할 문장1'\n",
    "    '수행할 문장2'"
   ]
  },
  {
   "cell_type": "code",
   "execution_count": 3,
   "metadata": {},
   "outputs": [
    {
     "data": {
      "text/plain": [
       "13"
      ]
     },
     "execution_count": 3,
     "metadata": {},
     "output_type": "execute_result"
    }
   ],
   "source": [
    "# 예시\n",
    "\n",
    "def add(a, b):\n",
    "    return a + b    # return은 함수의 결괏값을 돌려주는 명령어\n",
    "\n",
    "add(5, 8)"
   ]
  },
  {
   "cell_type": "code",
   "execution_count": 4,
   "metadata": {},
   "outputs": [],
   "source": [
    "# 수학시간에 f(x) = ~~~어쩌고 이렇게 정의하는 거랑 똑같다고 생각하면 됨.\n",
    "\n",
    "# 위의 예시에서\n",
    "# 매개변수 (parameter) = a, b\n",
    "# 인수 (arguments) = 5, 8"
   ]
  },
  {
   "cell_type": "code",
   "execution_count": 7,
   "metadata": {},
   "outputs": [
    {
     "name": "stdout",
     "output_type": "stream",
     "text": [
      "HI\n"
     ]
    }
   ],
   "source": [
    "# 입력값이 없는 함수 -> 그냥 상수함수 y=7 처럼 입력값 없이 결과를 뱉는 거라 생각하면 될듯\n",
    "\n",
    "def say():\n",
    "    return 'HI'\n",
    "\n",
    "print(say())"
   ]
  },
  {
   "cell_type": "code",
   "execution_count": 8,
   "metadata": {},
   "outputs": [
    {
     "name": "stdout",
     "output_type": "stream",
     "text": [
      "7, 3의 합은 10입니다.\n"
     ]
    }
   ],
   "source": [
    "# 결괏값이 없는 함수 (return이 없음)\n",
    "\n",
    "def add1(a, b):\n",
    "    print(\"%d, %d의 합은 %d입니다.\"%(a, b, a+b))\n",
    "\n",
    "add1(7,3)"
   ]
  },
  {
   "cell_type": "code",
   "execution_count": 9,
   "metadata": {},
   "outputs": [
    {
     "name": "stdout",
     "output_type": "stream",
     "text": [
      "4, 5의 합은 9입니다.\n",
      "None\n"
     ]
    }
   ],
   "source": [
    "# print는 수행할 문장의 항목에 불과.\n",
    "# 결괏값은 오직 return으로 돌려받을 수 있다.\n",
    "\n",
    "a = add1(4, 5)\n",
    "\n",
    "print (a)   # None을 출력."
   ]
  },
  {
   "cell_type": "code",
   "execution_count": 11,
   "metadata": {},
   "outputs": [
    {
     "name": "stdout",
     "output_type": "stream",
     "text": [
      "Hi\n"
     ]
    }
   ],
   "source": [
    "# 입력값 결괏값 둘 다 X\n",
    "\n",
    "def say1():\n",
    "    print('Hi')\n",
    "\n",
    "say1()"
   ]
  },
  {
   "cell_type": "code",
   "execution_count": 14,
   "metadata": {},
   "outputs": [
    {
     "name": "stdout",
     "output_type": "stream",
     "text": [
      "11\n"
     ]
    }
   ],
   "source": [
    "# 매개변수 지정\n",
    "\n",
    "def add(a, b):\n",
    "    return (a+b)\n",
    "\n",
    "result = add(a=8, b=3)\n",
    "\n",
    "print (result)"
   ]
  },
  {
   "cell_type": "code",
   "execution_count": 15,
   "metadata": {},
   "outputs": [
    {
     "data": {
      "text/plain": [
       "15"
      ]
     },
     "execution_count": 15,
     "metadata": {},
     "output_type": "execute_result"
    }
   ],
   "source": [
    "# 입력값 여러 개를 받는 함수\n",
    "\n",
    "def multiAdd(*i):   # 인수 args를 관례적으로 많이 사용\n",
    "    sum = 0\n",
    "    for k in i:\n",
    "        sum += k\n",
    "    return sum\n",
    "\n",
    "# 입력값은 튜플로 묶어 주면 된다.\n",
    "\n",
    "multiAdd(1, 2, 3, 4, 5)"
   ]
  },
  {
   "cell_type": "code",
   "execution_count": 16,
   "metadata": {},
   "outputs": [],
   "source": [
    "# 매개변수 여러 개로 스위치 추가하기!\n",
    "\n",
    "def addMultiply(toggle, *args):\n",
    "\n",
    "    if toggle == 'add':\n",
    "\n",
    "        result = 0\n",
    "        for i in args:\n",
    "            result += i\n",
    "    \n",
    "    elif toggle == 'multply':\n",
    "\n",
    "        result = 1\n",
    "        for i in args:\n",
    "            result *= i\n",
    "\n",
    "    else :\n",
    "        print ('add나 multiply 중 하나를 입력해주세요!')\n",
    "    \n",
    "    return result\n"
   ]
  },
  {
   "cell_type": "code",
   "execution_count": 19,
   "metadata": {},
   "outputs": [
    {
     "data": {
      "text/plain": [
       "21"
      ]
     },
     "execution_count": 19,
     "metadata": {},
     "output_type": "execute_result"
    }
   ],
   "source": [
    "addMultiply('add', 1, 2, 3, 4, 5, 6)    # 뒤의 args를 튜플로 다시 묶을 필요 없음!"
   ]
  },
  {
   "cell_type": "code",
   "execution_count": 20,
   "metadata": {},
   "outputs": [],
   "source": [
    "# 키워드 파라미터 kwargs : 매개변수 앞에 ** 두 개\n",
    "\n",
    "def print_kwargs(**kwargs):\n",
    "    print(kwargs)\n",
    "\n"
   ]
  },
  {
   "cell_type": "code",
   "execution_count": 22,
   "metadata": {},
   "outputs": [
    {
     "name": "stdout",
     "output_type": "stream",
     "text": [
      "{'a': 1, 'b': 2, 'c': 3}\n"
     ]
    }
   ],
   "source": [
    "print_kwargs(a=1, b=2, c=3)\n",
    "\n",
    "# 이렇게 딕셔너리로 만들어 줌."
   ]
  },
  {
   "cell_type": "code",
   "execution_count": 25,
   "metadata": {},
   "outputs": [
    {
     "data": {
      "text/plain": [
       "(9, 20)"
      ]
     },
     "execution_count": 25,
     "metadata": {},
     "output_type": "execute_result"
    }
   ],
   "source": [
    "# 두 개 이상의 답을 돌려주는 함수를 만들면, 튜플의 형태로 돌려 줌!\n",
    "\n",
    "def addmul (a, b):\n",
    "    return a+b, a*b\n",
    "\n",
    "addmul(4, 5)"
   ]
  },
  {
   "cell_type": "code",
   "execution_count": 26,
   "metadata": {},
   "outputs": [],
   "source": [
    "# return을 쓰면 함수에서 빠져나감!\n",
    "\n",
    "# return a+b\n",
    "# return a*b \n",
    "\n",
    "# 이렇게 써도 뒤에 있는 a*b는 실행 안 됨!"
   ]
  },
  {
   "cell_type": "code",
   "execution_count": 29,
   "metadata": {},
   "outputs": [],
   "source": [
    "# 예시\n",
    "\n",
    "def nick(nick):\n",
    "\n",
    "    if nick == '바보':\n",
    "        return\n",
    "    print ('내 별명은 %s입니다.' % nick)\n",
    "\n",
    "# 이 함수는 결괏값은 없음! (return의 꼴로 내놓는 게 없기 때문)\n",
    "# 하지만 문자열을 출력하긴 함\n",
    "\n",
    "# nick == 바보 이라면 return을 통해 print구문이 출력되지 않음.\n",
    "# 다른 문구라면 출력해줌.\n",
    "\n",
    "nick('바보')"
   ]
  },
  {
   "cell_type": "code",
   "execution_count": 30,
   "metadata": {},
   "outputs": [
    {
     "name": "stdout",
     "output_type": "stream",
     "text": [
      "내 별명은 똥개입니다.\n"
     ]
    }
   ],
   "source": [
    "nick('똥개')"
   ]
  },
  {
   "cell_type": "code",
   "execution_count": 34,
   "metadata": {},
   "outputs": [
    {
     "name": "stdout",
     "output_type": "stream",
     "text": [
      "이름은 홍길동입니다.\n",
      "나이는 25살입니다.\n",
      "남자입니다.\n"
     ]
    }
   ],
   "source": [
    "# 매개변수에 초기값 설정해두기\n",
    "\n",
    "def iden(name, age, man=True):  # 주의할 것은, =True 적용할 변수를 가장 마지막에 둬야 함.\n",
    "\n",
    "    print ('이름은 %s입니다.' % name)\n",
    "    print ('나이는 %d살입니다.' % age)\n",
    "\n",
    "    if man:\n",
    "        print('남자입니다.')\n",
    "\n",
    "    else : print('여자입니다.')\n",
    "\n",
    "\n",
    "iden('홍길동', 25)  # man 항목을 입력 안함. 이때는 기본값인 =True를 적용"
   ]
  },
  {
   "cell_type": "code",
   "execution_count": 36,
   "metadata": {},
   "outputs": [
    {
     "name": "stdout",
     "output_type": "stream",
     "text": [
      "1\n"
     ]
    }
   ],
   "source": [
    "# 함수 안에서 선언한 변수의 적용 범위\n",
    "\n",
    "a = 1 \n",
    "\n",
    "def test (a):\n",
    "    a+=1\n",
    "\n",
    "test(a)\n",
    "print(a)\n",
    "\n",
    "# 함수 안에서 쓰인 a와, 맨 처음에 썼던(=함수 밖) a는 완전히 다름!"
   ]
  },
  {
   "cell_type": "code",
   "execution_count": 38,
   "metadata": {},
   "outputs": [],
   "source": [
    "# 그렇다면 함수 안에서, 밖의 변수를 변경하는 방법?\n",
    "\n",
    "# 함수 내에서 return을 사용해 a = 함수 이렇게 바꿔줄 수도 있고,\n",
    "\n",
    "# global a 라는 명령어를 사용해 바꿀 수 있다.(함수 밖의 변수를 그대로 가져오겠다~)\n",
    "\n",
    "# 근데 global을 사용하는 것은 그닥 좋은 방법은 아님.(함수는 독립적으로 존재하는 게 좋기 때문..)"
   ]
  },
  {
   "cell_type": "code",
   "execution_count": 39,
   "metadata": {},
   "outputs": [
    {
     "data": {
      "text/plain": [
       "12"
      ]
     },
     "execution_count": 39,
     "metadata": {},
     "output_type": "execute_result"
    }
   ],
   "source": [
    "# lambda를 이용한 간단 함수\n",
    "\n",
    "# def를 못 쓰거나, 간단한 함수 만들 때 쓰임.\n",
    "# 자바스크립트의 var - let 과 def - lambda의 관계 같달까... ?\n",
    "\n",
    "# lambda로 만든 함수는 return이 없어도 결괏값을 돌려줌!\n",
    "\n",
    "add = lambda a, b : a+b     # 이런 식으로 만듦!! 간단함\n",
    "\n",
    "sum = add(7, 5)\n",
    "\n",
    "sum"
   ]
  }
 ],
 "metadata": {
  "interpreter": {
   "hash": "b0fa6594d8f4cbf19f97940f81e996739fb7646882a419484c72d19e05852a7e"
  },
  "kernelspec": {
   "display_name": "Python 3.9.12 64-bit",
   "language": "python",
   "name": "python3"
  },
  "language_info": {
   "codemirror_mode": {
    "name": "ipython",
    "version": 3
   },
   "file_extension": ".py",
   "mimetype": "text/x-python",
   "name": "python",
   "nbconvert_exporter": "python",
   "pygments_lexer": "ipython3",
   "version": "3.9.12"
  },
  "orig_nbformat": 4
 },
 "nbformat": 4,
 "nbformat_minor": 2
}
