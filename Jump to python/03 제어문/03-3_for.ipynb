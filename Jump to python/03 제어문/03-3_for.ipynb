{
 "cells": [
  {
   "cell_type": "code",
   "execution_count": 1,
   "metadata": {},
   "outputs": [
    {
     "ename": "SyntaxError",
     "evalue": "invalid syntax (1064015914.py, line 5)",
     "output_type": "error",
     "traceback": [
      "\u001b[0;36m  Input \u001b[0;32mIn [1]\u001b[0;36m\u001b[0m\n\u001b[0;31m    For '변수' in '리스트 혹은 문자열, 튜플' :\u001b[0m\n\u001b[0m        ^\u001b[0m\n\u001b[0;31mSyntaxError\u001b[0m\u001b[0;31m:\u001b[0m invalid syntax\n"
     ]
    }
   ],
   "source": [
    "# for : 파이썬의 직관적인 특징을 잘 대변\n",
    "\n",
    "# 뭔가 핵심 느낌쓰\n",
    "\n",
    "# 기본적인 for문의 형태\n",
    "\n",
    "For '변수' in '리스트 혹은 문자열, 튜플' :\n",
    "    '수행할 문장1'\n",
    "    '수행할 문장2'\n",
    "    '...'\n",
    "\n",
    "\n",
    "# 리스트의 모든 요소들이 차례대로 변수에 대입됨"
   ]
  },
  {
   "cell_type": "code",
   "execution_count": 2,
   "metadata": {},
   "outputs": [
    {
     "name": "stdout",
     "output_type": "stream",
     "text": [
      "one\n",
      "two\n",
      "three\n"
     ]
    }
   ],
   "source": [
    "# 예시\n",
    "\n",
    "l1 = ['one', 'two', 'three']\n",
    "\n",
    "for i in l1 :\n",
    "    print(i)"
   ]
  },
  {
   "cell_type": "code",
   "execution_count": 3,
   "metadata": {},
   "outputs": [
    {
     "name": "stdout",
     "output_type": "stream",
     "text": [
      "3\n",
      "7\n",
      "11\n"
     ]
    }
   ],
   "source": [
    "# 예시 2\n",
    "\n",
    "a = [(1, 2), (3, 4), (5, 6)]\n",
    "\n",
    "for (a, b) in a :\n",
    "    print (a+b)\n",
    "    "
   ]
  },
  {
   "cell_type": "code",
   "execution_count": 4,
   "metadata": {},
   "outputs": [
    {
     "name": "stdout",
     "output_type": "stream",
     "text": [
      "1번 학생은 합격입니다.\n",
      "2번 학생은 불합격입니다\n",
      "3번 학생은 합격입니다.\n",
      "4번 학생은 불합격입니다\n",
      "5번 학생은 합격입니다.\n"
     ]
    }
   ],
   "source": [
    "# 예시 3\n",
    "\n",
    "scores = [90, 25, 67, 45, 80]\n",
    "\n",
    "num = 0\n",
    "for i in scores :\n",
    "    num += 1\n",
    "\n",
    "    if i >= 60 : print ('%d번 학생은 합격입니다.' % num)\n",
    "    else : print ('%d번 학생은 불합격입니다' % num)\n"
   ]
  },
  {
   "cell_type": "code",
   "execution_count": 5,
   "metadata": {},
   "outputs": [
    {
     "name": "stdout",
     "output_type": "stream",
     "text": [
      "축하합니다. 3번 수험생은 합격했습니다.\n",
      "축하합니다. 5번 수험생은 합격했습니다.\n"
     ]
    }
   ],
   "source": [
    "# for 문에도 continue 사용할 수 있다!!\n",
    "\n",
    "scores = [44, 83, 100, 78, 93]\n",
    "\n",
    "num = 0\n",
    "\n",
    "for i in scores :\n",
    "    num += 1\n",
    "    if i < 90 : continue\n",
    "    else : print('축하합니다. %d번 수험생은 합격했습니다.' % num)"
   ]
  },
  {
   "cell_type": "code",
   "execution_count": 6,
   "metadata": {},
   "outputs": [
    {
     "data": {
      "text/plain": [
       "range(0, 9)"
      ]
     },
     "execution_count": 6,
     "metadata": {},
     "output_type": "execute_result"
    }
   ],
   "source": [
    "# Range 함수 \n",
    "\n",
    "a = range (0, 9)    # 0=< x < 9 의 범위를 의미!!!!\n",
    "\n",
    "a"
   ]
  },
  {
   "cell_type": "code",
   "execution_count": 8,
   "metadata": {},
   "outputs": [
    {
     "name": "stdout",
     "output_type": "stream",
     "text": [
      "55\n"
     ]
    }
   ],
   "source": [
    "# for와 range 같이 사용\n",
    "\n",
    "sum = 0\n",
    "\n",
    "for i in range (0, 11) : \n",
    "\n",
    "    sum += i\n",
    "\n",
    "print (sum)"
   ]
  },
  {
   "cell_type": "code",
   "execution_count": 11,
   "metadata": {},
   "outputs": [],
   "source": [
    "# len 함수 : 리스트 안의 요소 개수를 돌려줌 !\n",
    "\n",
    "a = [1, 2, 3, 4, 5]\n",
    "\n",
    "# len(a) = 5\n",
    "\n",
    "# range(len(a)) = range (5) = range (0, 5)와 동일!!!"
   ]
  },
  {
   "cell_type": "code",
   "execution_count": 15,
   "metadata": {},
   "outputs": [
    {
     "name": "stdout",
     "output_type": "stream",
     "text": [
      "2 4 6 8 10 12 14 16 18 \n",
      "3 6 9 12 15 18 21 24 27 \n",
      "4 8 12 16 20 24 28 32 36 \n",
      "5 10 15 20 25 30 35 40 45 \n",
      "6 12 18 24 30 36 42 48 54 \n",
      "7 14 21 28 35 42 49 56 63 \n",
      "8 16 24 32 40 48 56 64 72 \n",
      "9 18 27 36 45 54 63 72 81 \n"
     ]
    }
   ],
   "source": [
    "# 구구단\n",
    "\n",
    "for i in range(2, 10) :\n",
    "\n",
    "    for j in range (1, 10) :\n",
    "\n",
    "        print (i * j, end=' ')  # end를 넣어줌으로써 줄바꿈 방지\n",
    "\n",
    "    print('')   # ''빈칸 프린트함으로써 각 단이 끝날 때 줄바꿈"
   ]
  },
  {
   "cell_type": "code",
   "execution_count": 16,
   "metadata": {},
   "outputs": [
    {
     "name": "stdout",
     "output_type": "stream",
     "text": [
      "[3, 6, 9, 12]\n"
     ]
    }
   ],
   "source": [
    "# 리스트 내포 : 리스트 안에 for 문 포함시키기.\n",
    "\n",
    "# 기본 코드\n",
    "\n",
    "a = [1, 2, 3, 4]\n",
    "result = []\n",
    "\n",
    "for i in a :\n",
    "    result.append(i*3)\n",
    "\n",
    "print(result)"
   ]
  },
  {
   "cell_type": "code",
   "execution_count": 18,
   "metadata": {},
   "outputs": [
    {
     "name": "stdout",
     "output_type": "stream",
     "text": [
      "[3, 6, 9, 12]\n"
     ]
    }
   ],
   "source": [
    "# 위의 코드를 리스트 내포 이용해 줄여보자.\n",
    "\n",
    "a = [1, 2, 3, 4]\n",
    "\n",
    "result = [i*3 for i in a]   # 핵심!!\n",
    "\n",
    "print(result)"
   ]
  },
  {
   "cell_type": "code",
   "execution_count": 20,
   "metadata": {},
   "outputs": [
    {
     "name": "stdout",
     "output_type": "stream",
     "text": [
      "[6, 12]\n"
     ]
    }
   ],
   "source": [
    "# 리스트 내포 중 if 도 포함가능 ㅋㅋ\n",
    "\n",
    "evenResult = [i*3 for i in a if i % 2 == 0]\n",
    "\n",
    "print (evenResult)"
   ]
  },
  {
   "cell_type": "code",
   "execution_count": null,
   "metadata": {},
   "outputs": [],
   "source": []
  }
 ],
 "metadata": {
  "interpreter": {
   "hash": "b0fa6594d8f4cbf19f97940f81e996739fb7646882a419484c72d19e05852a7e"
  },
  "kernelspec": {
   "display_name": "Python 3.9.12 64-bit",
   "language": "python",
   "name": "python3"
  },
  "language_info": {
   "codemirror_mode": {
    "name": "ipython",
    "version": 3
   },
   "file_extension": ".py",
   "mimetype": "text/x-python",
   "name": "python",
   "nbconvert_exporter": "python",
   "pygments_lexer": "ipython3",
   "version": "3.9.12"
  },
  "orig_nbformat": 4
 },
 "nbformat": 4,
 "nbformat_minor": 2
}
