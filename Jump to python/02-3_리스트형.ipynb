{
 "cells": [
  {
   "cell_type": "code",
   "execution_count": 1,
   "metadata": {},
   "outputs": [],
   "source": [
    "# 리스트의 구성\n",
    "\n",
    "Listname = [1, 2, 3, 4, \"elements\"]\n",
    "\n",
    "EmptyList = []\n",
    "\n",
    "ListInList = [1, 2, 3, [1, 2, 3, 4]]\n",
    "\n",
    "# 비어있는 리스트는 다음과 같이 생성할 수도 있다.\n",
    "\n",
    "a = list()\n"
   ]
  },
  {
   "cell_type": "code",
   "execution_count": 3,
   "metadata": {},
   "outputs": [
    {
     "data": {
      "text/plain": [
       "4"
      ]
     },
     "execution_count": 3,
     "metadata": {},
     "output_type": "execute_result"
    }
   ],
   "source": [
    "# 리스트도 인덱싱, 슬라이싱이 가능하다.\n",
    "\n",
    "Listname[0] + ListInList[2]"
   ]
  },
  {
   "cell_type": "code",
   "execution_count": 4,
   "metadata": {},
   "outputs": [
    {
     "data": {
      "text/plain": [
       "3"
      ]
     },
     "execution_count": 4,
     "metadata": {},
     "output_type": "execute_result"
    }
   ],
   "source": [
    "# 리스트 안의 리스트 요소를 끄집어내기!!\n",
    "\n",
    "ListInList[3][2]"
   ]
  },
  {
   "cell_type": "code",
   "execution_count": 5,
   "metadata": {},
   "outputs": [
    {
     "data": {
      "text/plain": [
       "[1, 2, 3]"
      ]
     },
     "execution_count": 5,
     "metadata": {},
     "output_type": "execute_result"
    }
   ],
   "source": [
    "# 리스트의 슬라이싱!\n",
    "\n",
    "Listname[0:3]   #[0:3] -> 0=< x < 3 을 의미!"
   ]
  },
  {
   "cell_type": "code",
   "execution_count": 7,
   "metadata": {},
   "outputs": [
    {
     "name": "stdout",
     "output_type": "stream",
     "text": [
      "[1, 2, 3, 4, 5, 6]\n",
      "[1, 2, 3, 1, 2, 3, 1, 2, 3]\n"
     ]
    }
   ],
   "source": [
    "# 리스트도 곱하기 더하기 가능\n",
    "\n",
    "a = [1, 2, 3]\n",
    "b = [4, 5, 6]\n",
    "\n",
    "print( a + b )\n",
    "\n",
    "print( a * 3 )"
   ]
  },
  {
   "cell_type": "code",
   "execution_count": 8,
   "metadata": {},
   "outputs": [
    {
     "data": {
      "text/plain": [
       "3"
      ]
     },
     "execution_count": 8,
     "metadata": {},
     "output_type": "execute_result"
    }
   ],
   "source": [
    "# 리스트의 길이!\n",
    "\n",
    "len(a)"
   ]
  },
  {
   "cell_type": "code",
   "execution_count": 9,
   "metadata": {},
   "outputs": [
    {
     "data": {
      "text/plain": [
       "'3hi'"
      ]
     },
     "execution_count": 9,
     "metadata": {},
     "output_type": "execute_result"
    }
   ],
   "source": [
    "# 리스트 연산에서의 자료형 맞춰주기!\n",
    "\n",
    "a = [1, 2, 3]\n",
    "\n",
    "# a[2] = 3 은 string이 아니라 integer형이기 때문에, 이거랑 문자랑 더할 수 없음\n",
    "\n",
    "# 따라서 이걸 다른 문자열이랑 더하려면 str()을 이용해 문자형을 변환해주어야 한다.\n",
    "\n",
    "str(a[2]) + \"hi\""
   ]
  },
  {
   "cell_type": "code",
   "execution_count": 10,
   "metadata": {},
   "outputs": [
    {
     "data": {
      "text/plain": [
       "[1, 2, 4]"
      ]
     },
     "execution_count": 10,
     "metadata": {},
     "output_type": "execute_result"
    }
   ],
   "source": [
    "# 리스트 자료 바꾸기\n",
    "\n",
    "a = [1 ,2 ,3]\n",
    "\n",
    "a[2] = 4\n",
    "\n",
    "a"
   ]
  },
  {
   "cell_type": "code",
   "execution_count": 13,
   "metadata": {},
   "outputs": [
    {
     "data": {
      "text/plain": [
       "[1, 2]"
      ]
     },
     "execution_count": 13,
     "metadata": {},
     "output_type": "execute_result"
    }
   ],
   "source": [
    "# 지우기 = del 함수.\n",
    "\n",
    "a = [1, 2, 3]\n",
    "\n",
    "del a[2]\n",
    "\n",
    "a"
   ]
  },
  {
   "cell_type": "code",
   "execution_count": 16,
   "metadata": {},
   "outputs": [
    {
     "data": {
      "text/plain": [
       "[1]"
      ]
     },
     "execution_count": 16,
     "metadata": {},
     "output_type": "execute_result"
    }
   ],
   "source": [
    "# 슬라이싱과 del 동시에 이용할 수도 있음 당연히\n",
    "\n",
    "a = [1, 2, 3]\n",
    "\n",
    "del a[1:]\n",
    "\n",
    "a\n",
    "\n",
    "# 리스트 요소를 삭제하는 방법에는 del 이외에도 remove, pop을 쓰는 방법 있는데 나중에 배움"
   ]
  },
  {
   "cell_type": "code",
   "execution_count": 17,
   "metadata": {},
   "outputs": [
    {
     "data": {
      "text/plain": [
       "[1, 2, 3, 4, 5]"
      ]
     },
     "execution_count": 17,
     "metadata": {},
     "output_type": "execute_result"
    }
   ],
   "source": [
    "# 리스트 관련 함수들\n",
    "\n",
    "# 1. append (덧붙이기)\n",
    "\n",
    "a = [1, 2, 3, 4]\n",
    "\n",
    "a.append(5)\n",
    "\n",
    "a"
   ]
  },
  {
   "cell_type": "code",
   "execution_count": 19,
   "metadata": {},
   "outputs": [
    {
     "data": {
      "text/plain": [
       "[3, 4, 6, 7, 9]"
      ]
     },
     "execution_count": 19,
     "metadata": {},
     "output_type": "execute_result"
    }
   ],
   "source": [
    "# 2. Sort (정렬)\n",
    "\n",
    "# 숫자, 알파벳 순서로 정렬 가능\n",
    "\n",
    "a = [4, 6, 7, 3, 9]\n",
    "\n",
    "a.sort()\n",
    "\n",
    "a"
   ]
  },
  {
   "cell_type": "code",
   "execution_count": 22,
   "metadata": {},
   "outputs": [
    {
     "data": {
      "text/plain": [
       "[5, 4, 3, 2, 1]"
      ]
     },
     "execution_count": 22,
     "metadata": {},
     "output_type": "execute_result"
    }
   ],
   "source": [
    "# 3. reverse (그대로 뒤집기)\n",
    "\n",
    "a = [1, 2, 3, 4, 5]\n",
    "\n",
    "a.reverse()\n",
    "\n",
    "a"
   ]
  },
  {
   "cell_type": "code",
   "execution_count": 23,
   "metadata": {},
   "outputs": [
    {
     "data": {
      "text/plain": [
       "3"
      ]
     },
     "execution_count": 23,
     "metadata": {},
     "output_type": "execute_result"
    }
   ],
   "source": [
    "# 4. index \n",
    "\n",
    "a = [1, 2, 3, 4]\n",
    "\n",
    "a.index(4)\n",
    "\n",
    "# 없으면 오류"
   ]
  },
  {
   "cell_type": "code",
   "execution_count": 25,
   "metadata": {},
   "outputs": [
    {
     "data": {
      "text/plain": [
       "[1, 2, 9, 3, 4]"
      ]
     },
     "execution_count": 25,
     "metadata": {},
     "output_type": "execute_result"
    }
   ],
   "source": [
    "# 5. insert\n",
    "\n",
    "# insert(x, y) => x번째 자리에 y를 삽입!!!\n",
    "\n",
    "a = [1, 2, 3, 4]\n",
    "\n",
    "a.insert(2, 9)\n",
    "\n",
    "a"
   ]
  },
  {
   "cell_type": "code",
   "execution_count": 29,
   "metadata": {},
   "outputs": [
    {
     "data": {
      "text/plain": [
       "[1, 3, 4, 5, 6, 7, 2]"
      ]
     },
     "execution_count": 29,
     "metadata": {},
     "output_type": "execute_result"
    }
   ],
   "source": [
    "# 6. remove (지우기)\n",
    "\n",
    "# 첫 번쨰로 나오는 값을 삭제하는 함수.\n",
    "\n",
    "a = [1, 2, 3, 4, 5, 6, 7, 2]\n",
    "\n",
    "a.remove(2)\n",
    "\n",
    "a"
   ]
  },
  {
   "cell_type": "code",
   "execution_count": 30,
   "metadata": {},
   "outputs": [
    {
     "data": {
      "text/plain": [
       "6"
      ]
     },
     "execution_count": 30,
     "metadata": {},
     "output_type": "execute_result"
    }
   ],
   "source": [
    "# 7. pop\n",
    "\n",
    "# '끄집어내기' 함수라고 생각해도 좋을듯\n",
    "\n",
    "# pop() 는 맨 마지막 요소를 돌려주고 삭제.\n",
    "\n",
    "# pop(x) 는 x번째 요소를 돌려주고 삭제한다.\n",
    "\n",
    "a = [1, 2, 3, 4, 5, 6]\n",
    "\n",
    "a.pop()"
   ]
  },
  {
   "cell_type": "code",
   "execution_count": 32,
   "metadata": {},
   "outputs": [
    {
     "data": {
      "text/plain": [
       "4"
      ]
     },
     "execution_count": 32,
     "metadata": {},
     "output_type": "execute_result"
    }
   ],
   "source": [
    "# 8. count (개수 세기)\n",
    "\n",
    "a = [1, 1, 1, 1, 2, 3]\n",
    "\n",
    "a.count(1)"
   ]
  },
  {
   "cell_type": "code",
   "execution_count": 33,
   "metadata": {},
   "outputs": [
    {
     "data": {
      "text/plain": [
       "[1, 2, 3, 4, 5, 6, 7]"
      ]
     },
     "execution_count": 33,
     "metadata": {},
     "output_type": "execute_result"
    }
   ],
   "source": [
    "# 9. extend (리스트끼리 더해 확장하는 것.)\n",
    "\n",
    "a = [1, 2, 3, 4, 5]\n",
    "\n",
    "a.extend([6, 7])\n",
    "\n",
    "a"
   ]
  },
  {
   "cell_type": "code",
   "execution_count": 35,
   "metadata": {},
   "outputs": [
    {
     "data": {
      "text/plain": [
       "11"
      ]
     },
     "execution_count": 35,
     "metadata": {},
     "output_type": "execute_result"
    }
   ],
   "source": [
    "# 여기서, a += b 라는 표현식은, 새로운 a를 a + b의 값으로 정의하는 것.\n",
    "\n",
    "a = 7\n",
    "\n",
    "a += 4\n",
    "\n",
    "a   # 새로운 a = 원래 a(7) + 4"
   ]
  },
  {
   "cell_type": "code",
   "execution_count": 36,
   "metadata": {},
   "outputs": [],
   "source": [
    "# extend 함수도 += 와 동일한 역할 함.\n",
    "\n",
    "# {a.extend(??)} == {a += ??}"
   ]
  },
  {
   "cell_type": "code",
   "execution_count": null,
   "metadata": {},
   "outputs": [],
   "source": []
  }
 ],
 "metadata": {
  "interpreter": {
   "hash": "b0fa6594d8f4cbf19f97940f81e996739fb7646882a419484c72d19e05852a7e"
  },
  "kernelspec": {
   "display_name": "Python 3.9.12 64-bit",
   "language": "python",
   "name": "python3"
  },
  "language_info": {
   "codemirror_mode": {
    "name": "ipython",
    "version": 3
   },
   "file_extension": ".py",
   "mimetype": "text/x-python",
   "name": "python",
   "nbconvert_exporter": "python",
   "pygments_lexer": "ipython3",
   "version": "3.9.12"
  },
  "orig_nbformat": 4
 },
 "nbformat": 4,
 "nbformat_minor": 2
}
