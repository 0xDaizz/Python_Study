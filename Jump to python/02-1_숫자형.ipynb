{
 "cells": [
  {
   "cell_type": "code",
   "execution_count": 2,
   "metadata": {},
   "outputs": [],
   "source": [
    "# 숫자형 자료에 대해서 배워보자ㅏㅏ\n",
    "\n",
    "# 지수 표현 가능\n",
    "a = 4.7E6 # = 4.7 * 10^6\n",
    "\n",
    "# 8진수 표현 가능\n",
    "b = 0o155 # = 8진수 155 = 1*64 + 5*8 + 5*1 = 109\n",
    "\n",
    "# 16진수도 가능(이건 익숙!)\n",
    "c = 0x123ff\n",
    "\n",
    "# 8, 16진수는 잘 쓰지 않는 유형이긴 하지만, 혹싀 모르니깐!"
   ]
  },
  {
   "cell_type": "code",
   "execution_count": 3,
   "metadata": {},
   "outputs": [],
   "source": [
    "# 제곱 연산자 **\n",
    "\n",
    "d = 5**2 # =25\n",
    "\n",
    "# 나머지 연산자 %\n",
    "\n",
    "e = 5%3 # =2\n",
    "\n",
    "# 몫 연산자 //\n",
    "\n",
    "f = 7//4 # =1"
   ]
  },
  {
   "cell_type": "code",
   "execution_count": 4,
   "metadata": {},
   "outputs": [
    {
     "name": "stdout",
     "output_type": "stream",
     "text": [
      "4700000.0 109 74751 25 2 1\n"
     ]
    }
   ],
   "source": [
    "print (a, b, c, d, e, f)"
   ]
  }
 ],
 "metadata": {
  "interpreter": {
   "hash": "b0fa6594d8f4cbf19f97940f81e996739fb7646882a419484c72d19e05852a7e"
  },
  "kernelspec": {
   "display_name": "Python 3.9.12 64-bit",
   "language": "python",
   "name": "python3"
  },
  "language_info": {
   "codemirror_mode": {
    "name": "ipython",
    "version": 3
   },
   "file_extension": ".py",
   "mimetype": "text/x-python",
   "name": "python",
   "nbconvert_exporter": "python",
   "pygments_lexer": "ipython3",
   "version": "3.9.12"
  },
  "orig_nbformat": 4
 },
 "nbformat": 4,
 "nbformat_minor": 2
}
