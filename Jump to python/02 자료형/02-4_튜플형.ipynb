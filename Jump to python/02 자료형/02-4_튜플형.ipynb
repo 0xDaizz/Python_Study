{
 "cells": [
  {
   "cell_type": "code",
   "execution_count": 3,
   "metadata": {},
   "outputs": [],
   "source": [
    "# 튜플이 뭐임?\n",
    "\n",
    "# 튜플은 리스트와 거의 비슷하지만, \n",
    "# ()로 둘러싼다는 점,\n",
    "# 값을 수정 못한다는 점에서 리스트와 다름"
   ]
  },
  {
   "cell_type": "code",
   "execution_count": 7,
   "metadata": {},
   "outputs": [],
   "source": [
    "# 리스트와의 차이점 2개 추가\n",
    "\n",
    "t1 = (1,)   # 요소 하나만 가지려면 콤마로 끝내야 함\n",
    "\n",
    "t2 = 1, 2, 3    # 괄호를 생략해도 무방"
   ]
  },
  {
   "cell_type": "code",
   "execution_count": 8,
   "metadata": {},
   "outputs": [],
   "source": [
    "# 튜플은 한 번 만들면 수정이 불가능하지만, \n",
    "# 여러가지 연산은 가능."
   ]
  },
  {
   "cell_type": "code",
   "execution_count": 9,
   "metadata": {},
   "outputs": [
    {
     "data": {
      "text/plain": [
       "4"
      ]
     },
     "execution_count": 9,
     "metadata": {},
     "output_type": "execute_result"
    }
   ],
   "source": [
    "# 1. 인덱싱하기\n",
    "\n",
    "t1 = (1, 2, 3, 4, 5)\n",
    "\n",
    "t1[3]"
   ]
  },
  {
   "cell_type": "code",
   "execution_count": 10,
   "metadata": {},
   "outputs": [
    {
     "data": {
      "text/plain": [
       "(5, 6)"
      ]
     },
     "execution_count": 10,
     "metadata": {},
     "output_type": "execute_result"
    }
   ],
   "source": [
    "# 2. 슬라이싱하기\n",
    "\n",
    "t1 = (1, 2, 3, 4, 5, 6)\n",
    "\n",
    "t1[4:]"
   ]
  },
  {
   "cell_type": "code",
   "execution_count": 11,
   "metadata": {},
   "outputs": [
    {
     "name": "stdout",
     "output_type": "stream",
     "text": [
      "(1, 2, 3, 4, 5, 6)\n",
      "(1, 2, 3, 1, 2, 3)\n"
     ]
    }
   ],
   "source": [
    "# 3. 더하기, 곱하기\n",
    "\n",
    "t1 = (1, 2, 3)\n",
    "\n",
    "t2 = (4, 5, 6)\n",
    "\n",
    "print (t1 + t2)\n",
    "\n",
    "print (t1 * 2)"
   ]
  },
  {
   "cell_type": "code",
   "execution_count": 12,
   "metadata": {},
   "outputs": [
    {
     "data": {
      "text/plain": [
       "4"
      ]
     },
     "execution_count": 12,
     "metadata": {},
     "output_type": "execute_result"
    }
   ],
   "source": [
    "# 4. 길이 구하기 (len)\n",
    "\n",
    "t1 = (1, 2, 3, 4)\n",
    "\n",
    "len(t1)"
   ]
  }
 ],
 "metadata": {
  "interpreter": {
   "hash": "b0fa6594d8f4cbf19f97940f81e996739fb7646882a419484c72d19e05852a7e"
  },
  "kernelspec": {
   "display_name": "Python 3.9.12 64-bit",
   "language": "python",
   "name": "python3"
  },
  "language_info": {
   "codemirror_mode": {
    "name": "ipython",
    "version": 3
   },
   "file_extension": ".py",
   "mimetype": "text/x-python",
   "name": "python",
   "nbconvert_exporter": "python",
   "pygments_lexer": "ipython3",
   "version": "3.9.12"
  },
  "orig_nbformat": 4
 },
 "nbformat": 4,
 "nbformat_minor": 2
}
